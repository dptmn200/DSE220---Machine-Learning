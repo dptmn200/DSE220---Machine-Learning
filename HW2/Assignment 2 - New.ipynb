{
 "cells": [
  {
   "cell_type": "markdown",
   "metadata": {},
   "source": [
    "Assignnement 2: Prediction and Classification\n",
    "\n",
    "Due: Sunday, May 01, 2016\n"
   ]
  },
  {
   "cell_type": "markdown",
   "metadata": {},
   "source": [
    "# Introduction\n",
    "Problem 3 is optional - for extra credit!\n",
    "Problems 1 and 2 will be graded for the Lab 2.  \n",
    "\n",
    "\n",
    "In this assignment you will be using regression and classification to explore different data sets.  \n",
    "\n",
    "**First**: You will use data from before 2002 in the [Sean Lahman's Baseball Database](http://seanlahman.com/baseball-archive/statistics) to create a metric for picking baseball players using linear regression.  This database contains the \"complete batting and pitching statistics from 1871 to 2013, plus fielding statistics, standings, team stats, managerial records, post-season data, and more\". [Documentation provided here](http://seanlahman.com/files/database/readme2012.txt).\n",
    "\n",
    "![\"Sabermetrics Science\"](http://saberseminar.com/wp-content/uploads/2012/01/saber-web.jpg)\n",
    "http://saberseminar.com/wp-content/uploads/2012/01/saber-web.jpg\n",
    "\n",
    "**Second**: You will use the famous [iris](http://en.wikipedia.org/wiki/Iris_flower_data_set) data set to perform a $k$-neareast neighbor classification using cross validation.  While it was introduced in 1936, it is still [one of the most popular](http://archive.ics.uci.edu/ml/) example data sets in the machine learning community. Wikipedia describes the data set as follows: \"The data set consists of 50 samples from each of three species of Iris (Iris setosa, Iris virginica and Iris versicolor). Four features were measured from each sample: the length and the width of the sepals and petals, in centimetres.\" Here is an illustration what the four features measure:\n",
    "\n",
    "![\"iris data features\"](http://sebastianraschka.com/Images/2014_python_lda/iris_petal_sepal.png)\n",
    "http://sebastianraschka.com/Images/2014_python_lda/iris_petal_sepal.png\n",
    "\n",
    "**Third**: You will investigate the influence of higher dimensional spaces on the classification using another standard data set in machine learning called the The [cars data set](https://archive.ics.uci.edu/ml/datasets/Automobile).  \n"
   ]
  },
  {
   "cell_type": "markdown",
   "metadata": {},
   "source": [
    "## Load Python modules"
   ]
  },
  {
   "cell_type": "code",
   "execution_count": 1,
   "metadata": {
    "collapsed": false
   },
   "outputs": [
    {
     "name": "stderr",
     "output_type": "stream",
     "text": [
      "/Users/Deepthi/anaconda/lib/python2.7/site-packages/IPython/html.py:14: ShimWarning: The `IPython.html` package has been deprecated. You should import from `notebook` instead. `IPython.html.widgets` has moved to `ipywidgets`.\n",
      "  \"`IPython.html.widgets` has moved to `ipywidgets`.\", ShimWarning)\n"
     ]
    }
   ],
   "source": [
    "# prepare the notebook for matplotlib\n",
    "%matplotlib inline \n",
    "\n",
    "import requests \n",
    "import StringIO\n",
    "import zipfile\n",
    "import numpy as np\n",
    "import pandas as pd # pandas\n",
    "import matplotlib.pyplot as plt # module for plotting \n",
    "import itertools\n",
    "\n",
    "# If this module is not already installed, you may need to install it. \n",
    "# You can do this by typing 'pip install seaborn' in the command line\n",
    "import seaborn as sns \n",
    "\n",
    "import sklearn\n",
    "import sklearn.datasets\n",
    "import sklearn.cross_validation\n",
    "import sklearn.decomposition\n",
    "import sklearn.grid_search\n",
    "import sklearn.neighbors\n",
    "import sklearn.metrics\n",
    "from sklearn import datasets, linear_model\n",
    "from sklearn.cross_validation import train_test_split\n",
    "from sklearn.neighbors import KNeighborsClassifier"
   ]
  },
  {
   "cell_type": "markdown",
   "metadata": {},
   "source": [
    "# Problem 1: Sabermetrics\n",
    "\n",
    "Using data preceding the 2002 season pick 10 offensive players keeping the payroll under $20 million (assign each player the median salary). Predict how many games this team would win in a 162 game season.  \n",
    "\n",
    "In this problem we will be returning to the [Sean Lahman's Baseball Database](http://seanlahman.com/baseball-archive/statistics).  From this database, we will be extract five data sets containing information such as yearly stats and standing, batting statistics, fielding statistics, player names, player salaries and biographical information. You will explore the data in this database from before 2002 and create a metric for picking players. "
   ]
  },
  {
   "cell_type": "markdown",
   "metadata": {},
   "source": [
    "#### Problem 1(a) \n",
    "\n",
    "Load in [these CSV files](http://seanlahman.com/files/database/lahman-csv_2014-02-14.zip) from the [Sean Lahman's Baseball Database](http://seanlahman.com/baseball-archive/statistics). For this assignment, we will use the 'Teams.csv', 'Batting.csv', 'Salaries.csv', 'Fielding.csv', 'Master.csv' tables. Read these tables into separate pandas DataFrames with the following names. \n",
    "\n",
    "CSV file name | Name of pandas DataFrame\n",
    ":---: | :---: \n",
    "Teams.csv | teams\n",
    "Batting.csv | players\n",
    "Salaries.csv | salaries\n",
    "Fielding.csv | fielding\n",
    "Master.csv | master"
   ]
  },
  {
   "cell_type": "code",
   "execution_count": 2,
   "metadata": {
    "collapsed": false
   },
   "outputs": [
    {
     "name": "stdout",
     "output_type": "stream",
     "text": [
      "/Users/Deepthi/Documents/DSE/Q3_DSE220 - Machine Learning/Day 2/Assignment/Data/lahman-csv_2014-02-14\n"
     ]
    }
   ],
   "source": [
    "### Your code here ###\n",
    "%cd /Users/Deepthi/Documents/DSE/Q3_DSE220 - Machine Learning/Day 2/Assignment/Data/lahman-csv_2014-02-14\n",
    "\n",
    "teams = pd.read_csv('Teams.csv')\n",
    "players = pd.read_csv('Batting.csv')\n",
    "salaries = pd.read_csv('Salaries.csv')\n",
    "fielding = pd.read_csv('Fielding.csv')\n",
    "master = pd.read_csv('Master.csv')"
   ]
  },
  {
   "cell_type": "markdown",
   "metadata": {},
   "source": [
    "#### Problem 1(b)\n",
    "\n",
    "Calculate the median salary for each player and create a pandas DataFrame called `medianSalaries` with four columns: (1) the player ID, (2) the first name of the player, (3) the last name of the player and (4) the median salary of the player. Show the head of the `medianSalaries` DataFrame.   "
   ]
  },
  {
   "cell_type": "code",
   "execution_count": 3,
   "metadata": {
    "collapsed": false
   },
   "outputs": [
    {
     "data": {
      "text/html": [
       "<div>\n",
       "<table border=\"1\" class=\"dataframe\">\n",
       "  <thead>\n",
       "    <tr style=\"text-align: right;\">\n",
       "      <th></th>\n",
       "      <th>playerID</th>\n",
       "      <th>nameFirst</th>\n",
       "      <th>nameLast</th>\n",
       "      <th>median_salary</th>\n",
       "    </tr>\n",
       "  </thead>\n",
       "  <tbody>\n",
       "    <tr>\n",
       "      <th>0</th>\n",
       "      <td>aardsda01</td>\n",
       "      <td>David</td>\n",
       "      <td>Aardsma</td>\n",
       "      <td>419000</td>\n",
       "    </tr>\n",
       "    <tr>\n",
       "      <th>1</th>\n",
       "      <td>aasedo01</td>\n",
       "      <td>Don</td>\n",
       "      <td>Aase</td>\n",
       "      <td>612500</td>\n",
       "    </tr>\n",
       "    <tr>\n",
       "      <th>2</th>\n",
       "      <td>abadan01</td>\n",
       "      <td>Andy</td>\n",
       "      <td>Abad</td>\n",
       "      <td>327000</td>\n",
       "    </tr>\n",
       "    <tr>\n",
       "      <th>3</th>\n",
       "      <td>abadfe01</td>\n",
       "      <td>Fernando</td>\n",
       "      <td>Abad</td>\n",
       "      <td>451500</td>\n",
       "    </tr>\n",
       "    <tr>\n",
       "      <th>4</th>\n",
       "      <td>abbotje01</td>\n",
       "      <td>Jeff</td>\n",
       "      <td>Abbott</td>\n",
       "      <td>255000</td>\n",
       "    </tr>\n",
       "  </tbody>\n",
       "</table>\n",
       "</div>"
      ],
      "text/plain": [
       "    playerID nameFirst nameLast  median_salary\n",
       "0  aardsda01     David  Aardsma         419000\n",
       "1   aasedo01       Don     Aase         612500\n",
       "2   abadan01      Andy     Abad         327000\n",
       "3   abadfe01  Fernando     Abad         451500\n",
       "4  abbotje01      Jeff   Abbott         255000"
      ]
     },
     "execution_count": 3,
     "metadata": {},
     "output_type": "execute_result"
    }
   ],
   "source": [
    "### Your code here ###\n",
    "\n",
    "## Calculate median salary for every player\n",
    "Median_salary = pd.DataFrame(salaries.groupby(['playerID'])['salary'].median()).reset_index()\n",
    "Median_salary.columns = ['playerID','median_salary']\n",
    "\n",
    "## Add the first name and last name for each player\n",
    "medianSalaries = pd.merge(Median_salary,master,on='playerID')[['playerID','nameFirst','nameLast','median_salary']]\n",
    "\n",
    "medianSalaries.head()"
   ]
  },
  {
   "cell_type": "markdown",
   "metadata": {},
   "source": [
    "#### Problem 1(c)\n",
    "\n",
    "Now, consider only team/season combinations in which the teams played 162 Games. Exclude all data from before 1947. Compute the per plate appearance rates for singles, doubles, triples, HR, and BB. Create a new pandas DataFrame called `stats` that has the teamID, yearID, wins and these rates.\n",
    "\n",
    "**Hint**: Singles are hits that are not doubles, triples, nor HR. Plate appearances are base on balls plus at bats."
   ]
  },
  {
   "cell_type": "code",
   "execution_count": 4,
   "metadata": {
    "collapsed": false
   },
   "outputs": [
    {
     "data": {
      "text/html": [
       "<div>\n",
       "<table border=\"1\" class=\"dataframe\">\n",
       "  <thead>\n",
       "    <tr style=\"text-align: right;\">\n",
       "      <th></th>\n",
       "      <th>teamID</th>\n",
       "      <th>yearID</th>\n",
       "      <th>W</th>\n",
       "      <th>1B</th>\n",
       "      <th>2B</th>\n",
       "      <th>3B</th>\n",
       "      <th>HR</th>\n",
       "      <th>BB</th>\n",
       "    </tr>\n",
       "  </thead>\n",
       "  <tbody>\n",
       "    <tr>\n",
       "      <th>1359</th>\n",
       "      <td>NYA</td>\n",
       "      <td>1961</td>\n",
       "      <td>109</td>\n",
       "      <td>0.161750</td>\n",
       "      <td>0.031793</td>\n",
       "      <td>0.006555</td>\n",
       "      <td>0.039331</td>\n",
       "      <td>0.088987</td>\n",
       "    </tr>\n",
       "    <tr>\n",
       "      <th>1360</th>\n",
       "      <td>DET</td>\n",
       "      <td>1961</td>\n",
       "      <td>101</td>\n",
       "      <td>0.165704</td>\n",
       "      <td>0.034488</td>\n",
       "      <td>0.008502</td>\n",
       "      <td>0.028874</td>\n",
       "      <td>0.107956</td>\n",
       "    </tr>\n",
       "    <tr>\n",
       "      <th>1361</th>\n",
       "      <td>BAL</td>\n",
       "      <td>1961</td>\n",
       "      <td>95</td>\n",
       "      <td>0.161828</td>\n",
       "      <td>0.037446</td>\n",
       "      <td>0.005939</td>\n",
       "      <td>0.024579</td>\n",
       "      <td>0.095843</td>\n",
       "    </tr>\n",
       "    <tr>\n",
       "      <th>1362</th>\n",
       "      <td>CHA</td>\n",
       "      <td>1961</td>\n",
       "      <td>86</td>\n",
       "      <td>0.176056</td>\n",
       "      <td>0.035375</td>\n",
       "      <td>0.007534</td>\n",
       "      <td>0.022601</td>\n",
       "      <td>0.090075</td>\n",
       "    </tr>\n",
       "    <tr>\n",
       "      <th>1364</th>\n",
       "      <td>BOS</td>\n",
       "      <td>1961</td>\n",
       "      <td>76</td>\n",
       "      <td>0.162632</td>\n",
       "      <td>0.040780</td>\n",
       "      <td>0.006011</td>\n",
       "      <td>0.018197</td>\n",
       "      <td>0.105118</td>\n",
       "    </tr>\n",
       "  </tbody>\n",
       "</table>\n",
       "</div>"
      ],
      "text/plain": [
       "     teamID  yearID    W        1B        2B        3B        HR        BB\n",
       "1359    NYA    1961  109  0.161750  0.031793  0.006555  0.039331  0.088987\n",
       "1360    DET    1961  101  0.165704  0.034488  0.008502  0.028874  0.107956\n",
       "1361    BAL    1961   95  0.161828  0.037446  0.005939  0.024579  0.095843\n",
       "1362    CHA    1961   86  0.176056  0.035375  0.007534  0.022601  0.090075\n",
       "1364    BOS    1961   76  0.162632  0.040780  0.006011  0.018197  0.105118"
      ]
     },
     "execution_count": 4,
     "metadata": {},
     "output_type": "execute_result"
    }
   ],
   "source": [
    "### Your code here ###\n",
    "\n",
    "## Filter for the required criteria \n",
    "df = teams[(teams['G']>=162) & (teams['yearID'] > 1947)].copy()\n",
    "\n",
    "## Calculate PA = AB + BB\n",
    "df['PA'] = df['AB'] + df['BB']\n",
    "\n",
    "## Calculate singles\n",
    "df['1B'] = df['H']-df['2B']-df['3B']-df['HR']\n",
    "\n",
    "## For each of singles, doubles, triples, HR and BB, calculate plate appearance rate\n",
    "for i in ['1B','2B','3B','HR','BB']:\n",
    "    df[i] = df[i]/df['PA']\n",
    "\n",
    "## Get the required columns and create the stats dataframe\n",
    "stats = df[['teamID','yearID','W','1B','2B','3B','HR','BB']]\n",
    "stats.head()"
   ]
  },
  {
   "cell_type": "markdown",
   "metadata": {},
   "source": [
    "#### Problem 1(d)\n",
    "\n",
    "Is there a noticeable time trend in the rates computed computed in Problem 1(c)? "
   ]
  },
  {
   "cell_type": "code",
   "execution_count": 5,
   "metadata": {
    "collapsed": false
   },
   "outputs": [
    {
     "data": {
      "image/png": "[encoded data removed]",
      "text/plain": [
       "<matplotlib.figure.Figure at 0x104b6e090>"
      ]
     },
     "metadata": {},
     "output_type": "display_data"
    },
    {
     "data": {
      "image/png": "[encoded data removed]",
      "text/plain": [
       "<matplotlib.figure.Figure at 0x104b617d0>"
      ]
     },
     "metadata": {},
     "output_type": "display_data"
    },
    {
     "data": {
      "image/png": "[encoded data removed]",
      "text/plain": [
       "<matplotlib.figure.Figure at 0x1058f4cd0>"
      ]
     },
     "metadata": {},
     "output_type": "display_data"
    },
    {
     "data": {
      "image/png": "[encoded data removed]",
      "text/plain": [
       "<matplotlib.figure.Figure at 0x10ff163d0>"
      ]
     },
     "metadata": {},
     "output_type": "display_data"
    },
    {
     "data": {
      "image/png": "[encoded data removed]",
      "text/plain": [
       "<matplotlib.figure.Figure at 0x10ffa74d0>"
      ]
     },
     "metadata": {},
     "output_type": "display_data"
    }
   ],
   "source": [
    "### Your code here ###\n",
    "\n",
    "## Comments: 2B and HR seem to be trending higher over time, especially after 1990. While 1B is going down.\n",
    "## 3B however, doesn't show any significant change in trend over time.\n",
    "## Other rates don't have a significant time-trend.\n",
    "\n",
    "for i in ['1B','2B','3B','HR','BB']:\n",
    "    stats.plot(kind='scatter', x='yearID', y=i);"
   ]
  },
  {
   "cell_type": "markdown",
   "metadata": {},
   "source": [
    "#### Problem 1(e) \n",
    "\n",
    "Using the `stats` DataFrame from Problem 1(c), adjust the singles per PA rates so that the average across teams for each year is 0. Do the same for the doubles, triples, HR, and BB rates. "
   ]
  },
  {
   "cell_type": "code",
   "execution_count": 6,
   "metadata": {
    "collapsed": false,
    "scrolled": true
   },
   "outputs": [
    {
     "name": "stderr",
     "output_type": "stream",
     "text": [
      "/Users/Deepthi/anaconda/lib/python2.7/site-packages/pandas/core/frame.py:2148: SettingWithCopyWarning: \n",
      "A value is trying to be set on a copy of a slice from a DataFrame.\n",
      "Try using .loc[row_indexer,col_indexer] = value instead\n",
      "\n",
      "See the the caveats in the documentation: http://pandas.pydata.org/pandas-docs/stable/indexing.html#indexing-view-versus-copy\n",
      "  self[k1] = value[k2]\n"
     ]
    },
    {
     "data": {
      "text/plain": [
       "1B   -0\n",
       "2B   -0\n",
       "3B    0\n",
       "HR   -0\n",
       "BB   -0\n",
       "dtype: float64"
      ]
     },
     "execution_count": 6,
     "metadata": {},
     "output_type": "execute_result"
    }
   ],
   "source": [
    "### Your code here ###\n",
    "\n",
    "## Standardizing all the rates to get the average across teams for each year 0\n",
    "df = []\n",
    "for yearID in stats['yearID'].unique():\n",
    "    temp = stats[stats['yearID'] == yearID][['1B','2B','3B','HR','BB']].copy()\n",
    "    temp2 = stats[stats['yearID'] == yearID]\n",
    "    temp2[['1B','2B','3B','HR','BB']] = ((temp - temp.mean()) / temp.std())\n",
    "    df.append(temp2)\n",
    "\n",
    "stats_adj = pd.concat(df)\n",
    "\n",
    "## To confirm that the mean is zero on all the columns\n",
    "stats_adj.groupby('yearID')[['1B','2B','3B','HR','BB']].mean().mean().round()"
   ]
  },
  {
   "cell_type": "markdown",
   "metadata": {},
   "source": [
    "#### Problem 1(f)\n",
    "\n",
    "Build a simple linear regression model to predict the number of wins from the average adjusted singles, double, triples, HR, and BB rates. To decide which of these terms to include fit the model to data from 2002 and compute the average squared residuals from predictions to years past 2002. Use the fitted model to define a new sabermetric summary: offensive predicted wins (OPW). Hint: the new summary should be a linear combination of one to five of the five rates.\n"
   ]
  },
  {
   "cell_type": "code",
   "execution_count": 7,
   "metadata": {
    "collapsed": false,
    "scrolled": false
   },
   "outputs": [
    {
     "name": "stdout",
     "output_type": "stream",
     "text": [
      "Best estimates (with low RSS) of OPW are obtained by using the following features: ['1B', '2B', 'HR', 'BB']\n",
      "The co-efficients obtained: [4.7053268835867348, 2.428485063684215, 4.0564344087336384, 4.6512125726854787]\n",
      "The intercept obtained: 81.4426020408\n",
      "The minimum residual squared: 82.0396086226\n"
     ]
    }
   ],
   "source": [
    "## The following piece of code iterates over all the combinations of features and calculates RSS. \n",
    "## Then the model with the lowest RSS is chosen to be the best one.\n",
    "\n",
    "xs = ['1B','2B','3B','HR','BB']\n",
    "vars_used = []\n",
    "coefficients = []\n",
    "intercept = []\n",
    "RSS = []\n",
    "for L in range(0, len(xs)+1):\n",
    "    for subset in itertools.combinations(xs, L):\n",
    "            if (len(list(subset))==0):\n",
    "                continue\n",
    "            else:\n",
    "                stats_train_y = stats_adj[stats_adj['yearID'] <= 2002]['W']\n",
    "                stats_train_x = stats_adj[stats_adj['yearID'] <= 2002][list(subset)]\n",
    "                stats_test_y = stats_adj[stats_adj['yearID'] > 2002]['W']\n",
    "                stats_test_x = stats_adj[stats_adj['yearID'] > 2002][list(subset)]\n",
    "                regr = linear_model.LinearRegression()\n",
    "                regr.fit(stats_train_x, stats_train_y)\n",
    "                vars_used.append(list(subset))\n",
    "                coefficients.append(list(regr.coef_))\n",
    "                intercept.append(regr.intercept_)\n",
    "                ## Calculate the average RSS from predictions to years past 2002\n",
    "                RSS.append(np.mean((regr.predict(stats_test_x) - stats_test_y) ** 2))\n",
    "\n",
    "print 'Best estimates (with low RSS) of OPW are obtained by using the following features:',\n",
    "print vars_used[np.argmin(RSS)]\n",
    "print 'The co-efficients obtained:', coefficients[np.argmin(RSS)]\n",
    "print 'The intercept obtained:', intercept[np.argmin(RSS)]\n",
    "print 'The minimum residual squared:', RSS[np.argmin(RSS)]\n",
    "\n",
    "## Note: Based on my reading, 3B is the toughest to score (that's right, its even tougher than HR). \n",
    "## So, 3B might not be a big contributor in predicting wins. \n",
    "## This is proven by the fact that the best model selected based on RSS does not include 3B"
   ]
  },
  {
   "cell_type": "code",
   "execution_count": 8,
   "metadata": {
    "collapsed": false
   },
   "outputs": [
    {
     "data": {
      "text/html": [
       "<div>\n",
       "<table border=\"1\" class=\"dataframe\">\n",
       "  <thead>\n",
       "    <tr style=\"text-align: right;\">\n",
       "      <th></th>\n",
       "      <th>teamID</th>\n",
       "      <th>yearID</th>\n",
       "      <th>W</th>\n",
       "      <th>1B</th>\n",
       "      <th>2B</th>\n",
       "      <th>3B</th>\n",
       "      <th>HR</th>\n",
       "      <th>BB</th>\n",
       "      <th>OPW</th>\n",
       "    </tr>\n",
       "  </thead>\n",
       "  <tbody>\n",
       "    <tr>\n",
       "      <th>1359</th>\n",
       "      <td>NYA</td>\n",
       "      <td>1961</td>\n",
       "      <td>109</td>\n",
       "      <td>-0.140899</td>\n",
       "      <td>-1.507695</td>\n",
       "      <td>-0.007669</td>\n",
       "      <td>1.664865</td>\n",
       "      <td>-1.183064</td>\n",
       "      <td>79.476915</td>\n",
       "    </tr>\n",
       "    <tr>\n",
       "      <th>1360</th>\n",
       "      <td>DET</td>\n",
       "      <td>1961</td>\n",
       "      <td>101</td>\n",
       "      <td>0.333666</td>\n",
       "      <td>-0.527529</td>\n",
       "      <td>1.193504</td>\n",
       "      <td>0.392544</td>\n",
       "      <td>0.961964</td>\n",
       "      <td>90.506239</td>\n",
       "    </tr>\n",
       "    <tr>\n",
       "      <th>1361</th>\n",
       "      <td>BAL</td>\n",
       "      <td>1961</td>\n",
       "      <td>95</td>\n",
       "      <td>-0.131593</td>\n",
       "      <td>0.548152</td>\n",
       "      <td>-0.388158</td>\n",
       "      <td>-0.129961</td>\n",
       "      <td>-0.407818</td>\n",
       "      <td>78.658691</td>\n",
       "    </tr>\n",
       "    <tr>\n",
       "      <th>1362</th>\n",
       "      <td>CHA</td>\n",
       "      <td>1961</td>\n",
       "      <td>86</td>\n",
       "      <td>1.576157</td>\n",
       "      <td>-0.205071</td>\n",
       "      <td>0.596050</td>\n",
       "      <td>-0.370694</td>\n",
       "      <td>-1.060020</td>\n",
       "      <td>82.500982</td>\n",
       "    </tr>\n",
       "    <tr>\n",
       "      <th>1364</th>\n",
       "      <td>BOS</td>\n",
       "      <td>1961</td>\n",
       "      <td>76</td>\n",
       "      <td>-0.035068</td>\n",
       "      <td>1.760332</td>\n",
       "      <td>-0.343273</td>\n",
       "      <td>-0.906529</td>\n",
       "      <td>0.640978</td>\n",
       "      <td>83.191123</td>\n",
       "    </tr>\n",
       "  </tbody>\n",
       "</table>\n",
       "</div>"
      ],
      "text/plain": [
       "     teamID  yearID    W        1B        2B        3B        HR        BB  \\\n",
       "1359    NYA    1961  109 -0.140899 -1.507695 -0.007669  1.664865 -1.183064   \n",
       "1360    DET    1961  101  0.333666 -0.527529  1.193504  0.392544  0.961964   \n",
       "1361    BAL    1961   95 -0.131593  0.548152 -0.388158 -0.129961 -0.407818   \n",
       "1362    CHA    1961   86  1.576157 -0.205071  0.596050 -0.370694 -1.060020   \n",
       "1364    BOS    1961   76 -0.035068  1.760332 -0.343273 -0.906529  0.640978   \n",
       "\n",
       "            OPW  \n",
       "1359  79.476915  \n",
       "1360  90.506239  \n",
       "1361  78.658691  \n",
       "1362  82.500982  \n",
       "1364  83.191123  "
      ]
     },
     "execution_count": 8,
     "metadata": {},
     "output_type": "execute_result"
    }
   ],
   "source": [
    "## Predicted OPW\n",
    "stats_adj2 = stats_adj.copy()\n",
    "stats_adj2['OPW'] = regr.predict(stats_adj[list(subset)])\n",
    "stats_adj2.head()"
   ]
  },
  {
   "cell_type": "markdown",
   "metadata": {},
   "source": [
    "** Your answer here: **\n",
    "\n",
    "Using the linear regression model, I found that the variables - 1B, 2B, HR and BB generate the best model with minimum RSS value.\n",
    "\n",
    "** Note: **\n",
    "Based on my reading, 3B is the toughest to score (that's right, its even tougher than HR). So, 3B might not be a big contributor in predicting wins. This is proven by the fact that the best model selected based on RSS does not include 3B"
   ]
  },
  {
   "cell_type": "markdown",
   "metadata": {},
   "source": [
    "#### Problem 1(g)\n",
    "\n",
    "Now we will create a similar database for individual players. Consider only player/year combinations in which the player had at least 500 plate appearances. Consider only the years we considered for the calculations above (after 1947 and seasons with 162 games). For each player/year compute singles, doubles, triples, HR, BB per plate appearance rates. Create a new pandas DataFrame called `playerstats` that has the playerID, yearID and the rates of these stats.  Remove the average for each year as for these rates as done in Problem 1(e). "
   ]
  },
  {
   "cell_type": "code",
   "execution_count": 9,
   "metadata": {
    "collapsed": false
   },
   "outputs": [],
   "source": [
    "### Your code here ###\n",
    "\n",
    "df = players[(players['G']>=162) & (players['yearID'] > 1947)].copy()\n",
    "\n",
    "## Calculate PA = AB + BB\n",
    "df['PA'] = df['AB'] + df['BB']\n",
    "\n",
    "df = df[df['PA'] >= 500]\n",
    "\n",
    "## Calculate singles\n",
    "df['1B'] = df['H']-df['2B']-df['3B']-df['HR']\n",
    "\n",
    "## For each of singles, doubles, triples, HR and BB, calculate plate appearance rate\n",
    "for i in ['1B','2B','3B','HR','BB']:\n",
    "    df[i] = df[i]/df['PA']\n",
    "\n",
    "## Get the required columns and create the playerstats dataframe\n",
    "playerstats = df[['playerID','yearID','1B','2B','3B','HR','BB']]"
   ]
  },
  {
   "cell_type": "code",
   "execution_count": 10,
   "metadata": {
    "collapsed": false
   },
   "outputs": [],
   "source": [
    "## Standardize the players data for each year\n",
    "\n",
    "df = []\n",
    "for yearID in playerstats['yearID'].unique():\n",
    "    temp = playerstats[playerstats['yearID'] == yearID][['1B','2B','3B','HR','BB']].copy()\n",
    "    temp2 = playerstats[playerstats['yearID'] == yearID]\n",
    "    temp2[['1B','2B','3B','HR','BB']] = ((temp - temp.mean()) / temp.std())\n",
    "    df.append(temp2)\n",
    "\n",
    "playerstats = pd.concat(df)"
   ]
  },
  {
   "cell_type": "markdown",
   "metadata": {},
   "source": [
    "Show the head of the `playerstats` DataFrame. "
   ]
  },
  {
   "cell_type": "code",
   "execution_count": 11,
   "metadata": {
    "collapsed": false
   },
   "outputs": [
    {
     "data": {
      "text/html": [
       "<div>\n",
       "<table border=\"1\" class=\"dataframe\">\n",
       "  <thead>\n",
       "    <tr style=\"text-align: right;\">\n",
       "      <th></th>\n",
       "      <th>playerID</th>\n",
       "      <th>yearID</th>\n",
       "      <th>1B</th>\n",
       "      <th>2B</th>\n",
       "      <th>3B</th>\n",
       "      <th>HR</th>\n",
       "      <th>BB</th>\n",
       "    </tr>\n",
       "  </thead>\n",
       "  <tbody>\n",
       "    <tr>\n",
       "      <th>208</th>\n",
       "      <td>abreubo01</td>\n",
       "      <td>2001</td>\n",
       "      <td>-1.212825</td>\n",
       "      <td>1.775116</td>\n",
       "      <td>0.107445</td>\n",
       "      <td>-0.167059</td>\n",
       "      <td>1.017177</td>\n",
       "    </tr>\n",
       "    <tr>\n",
       "      <th>12284</th>\n",
       "      <td>cabreor01</td>\n",
       "      <td>2001</td>\n",
       "      <td>0.769774</td>\n",
       "      <td>0.873891</td>\n",
       "      <td>1.078940</td>\n",
       "      <td>-1.157486</td>\n",
       "      <td>-1.068767</td>\n",
       "    </tr>\n",
       "    <tr>\n",
       "      <th>21079</th>\n",
       "      <td>delgaca01</td>\n",
       "      <td>2001</td>\n",
       "      <td>-0.997527</td>\n",
       "      <td>-0.959730</td>\n",
       "      <td>-1.197160</td>\n",
       "      <td>0.344624</td>\n",
       "      <td>1.236613</td>\n",
       "    </tr>\n",
       "    <tr>\n",
       "      <th>31888</th>\n",
       "      <td>gonzalu01</td>\n",
       "      <td>2001</td>\n",
       "      <td>-0.606425</td>\n",
       "      <td>-0.328285</td>\n",
       "      <td>1.353103</td>\n",
       "      <td>1.323320</td>\n",
       "      <td>0.741433</td>\n",
       "    </tr>\n",
       "    <tr>\n",
       "      <th>51519</th>\n",
       "      <td>longte01</td>\n",
       "      <td>2001</td>\n",
       "      <td>1.530662</td>\n",
       "      <td>0.078488</td>\n",
       "      <td>0.140797</td>\n",
       "      <td>-1.295385</td>\n",
       "      <td>-0.783845</td>\n",
       "    </tr>\n",
       "  </tbody>\n",
       "</table>\n",
       "</div>"
      ],
      "text/plain": [
       "        playerID  yearID        1B        2B        3B        HR        BB\n",
       "208    abreubo01    2001 -1.212825  1.775116  0.107445 -0.167059  1.017177\n",
       "12284  cabreor01    2001  0.769774  0.873891  1.078940 -1.157486 -1.068767\n",
       "21079  delgaca01    2001 -0.997527 -0.959730 -1.197160  0.344624  1.236613\n",
       "31888  gonzalu01    2001 -0.606425 -0.328285  1.353103  1.323320  0.741433\n",
       "51519   longte01    2001  1.530662  0.078488  0.140797 -1.295385 -0.783845"
      ]
     },
     "execution_count": 11,
     "metadata": {},
     "output_type": "execute_result"
    }
   ],
   "source": [
    "### Your code here ###\n",
    "playerstats.head()"
   ]
  },
  {
   "cell_type": "markdown",
   "metadata": {},
   "source": [
    "#### Problem 1(h)\n",
    "\n",
    "Using the `playerstats` DataFrame created in Problem 1(g), create a new DataFrame called `playerLS` containing the player's lifetime stats. This DataFrame should contain the playerID, the year the player's career started, the year the player's career ended and the player's lifetime average for each of the quantities (singles, doubles, triples, HR, BB). For simplicity we will simply compute the avaerage of the rates by year (a more correct way is to go back to the totals). "
   ]
  },
  {
   "cell_type": "code",
   "execution_count": 12,
   "metadata": {
    "collapsed": false
   },
   "outputs": [],
   "source": [
    "### Your code here ###\n",
    "playerLS = pd.merge(playerstats, master, on='playerID')\n",
    "playerLS['career_start_year']= playerLS['debut'].apply(lambda x: int(x[0:4]))\n",
    "playerLS['career_end_year']= playerLS['finalGame'].apply(lambda x: int(x[0:4]))\n",
    "\n",
    "playerLS = playerLS[['playerID','career_start_year','career_end_year','1B','2B','3B','HR','BB']]\\\n",
    "                .groupby(['playerID','career_start_year','career_end_year']).mean().reset_index()"
   ]
  },
  {
   "cell_type": "markdown",
   "metadata": {},
   "source": [
    "Show the head of the `playerLS` DataFrame. "
   ]
  },
  {
   "cell_type": "code",
   "execution_count": 13,
   "metadata": {
    "collapsed": false
   },
   "outputs": [
    {
     "data": {
      "text/html": [
       "<div>\n",
       "<table border=\"1\" class=\"dataframe\">\n",
       "  <thead>\n",
       "    <tr style=\"text-align: right;\">\n",
       "      <th></th>\n",
       "      <th>playerID</th>\n",
       "      <th>career_start_year</th>\n",
       "      <th>career_end_year</th>\n",
       "      <th>1B</th>\n",
       "      <th>2B</th>\n",
       "      <th>3B</th>\n",
       "      <th>HR</th>\n",
       "      <th>BB</th>\n",
       "    </tr>\n",
       "  </thead>\n",
       "  <tbody>\n",
       "    <tr>\n",
       "      <th>0</th>\n",
       "      <td>abreubo01</td>\n",
       "      <td>1996</td>\n",
       "      <td>2012</td>\n",
       "      <td>-0.954927</td>\n",
       "      <td>0.918221</td>\n",
       "      <td>-0.345258</td>\n",
       "      <td>-0.187583</td>\n",
       "      <td>1.431686</td>\n",
       "    </tr>\n",
       "    <tr>\n",
       "      <th>1</th>\n",
       "      <td>allendi01</td>\n",
       "      <td>1963</td>\n",
       "      <td>1977</td>\n",
       "      <td>-0.155744</td>\n",
       "      <td>1.190421</td>\n",
       "      <td>1.818839</td>\n",
       "      <td>0.763955</td>\n",
       "      <td>0.644211</td>\n",
       "    </tr>\n",
       "    <tr>\n",
       "      <th>2</th>\n",
       "      <td>alomasa01</td>\n",
       "      <td>1964</td>\n",
       "      <td>1978</td>\n",
       "      <td>0.707107</td>\n",
       "      <td>-0.707107</td>\n",
       "      <td>-0.707107</td>\n",
       "      <td>-0.707107</td>\n",
       "      <td>-0.707107</td>\n",
       "    </tr>\n",
       "    <tr>\n",
       "      <th>3</th>\n",
       "      <td>alouma01</td>\n",
       "      <td>1960</td>\n",
       "      <td>1974</td>\n",
       "      <td>1.529468</td>\n",
       "      <td>1.575523</td>\n",
       "      <td>0.347749</td>\n",
       "      <td>-1.251338</td>\n",
       "      <td>-0.947769</td>\n",
       "    </tr>\n",
       "    <tr>\n",
       "      <th>4</th>\n",
       "      <td>bagweje01</td>\n",
       "      <td>1991</td>\n",
       "      <td>2005</td>\n",
       "      <td>-1.032858</td>\n",
       "      <td>1.004970</td>\n",
       "      <td>-0.334311</td>\n",
       "      <td>0.778493</td>\n",
       "      <td>1.296231</td>\n",
       "    </tr>\n",
       "  </tbody>\n",
       "</table>\n",
       "</div>"
      ],
      "text/plain": [
       "    playerID  career_start_year  career_end_year        1B        2B  \\\n",
       "0  abreubo01               1996             2012 -0.954927  0.918221   \n",
       "1  allendi01               1963             1977 -0.155744  1.190421   \n",
       "2  alomasa01               1964             1978  0.707107 -0.707107   \n",
       "3   alouma01               1960             1974  1.529468  1.575523   \n",
       "4  bagweje01               1991             2005 -1.032858  1.004970   \n",
       "\n",
       "         3B        HR        BB  \n",
       "0 -0.345258 -0.187583  1.431686  \n",
       "1  1.818839  0.763955  0.644211  \n",
       "2 -0.707107 -0.707107 -0.707107  \n",
       "3  0.347749 -1.251338 -0.947769  \n",
       "4 -0.334311  0.778493  1.296231  "
      ]
     },
     "execution_count": 13,
     "metadata": {},
     "output_type": "execute_result"
    }
   ],
   "source": [
    "### Your code here ###\n",
    "playerLS.head()"
   ]
  },
  {
   "cell_type": "markdown",
   "metadata": {},
   "source": [
    "#### Problem 1(i)\n",
    "\n",
    "Compute the OPW for each player based on the average rates in the `playerLS` DataFrame. You can interpret this summary statistic as the predicted wins for a team with 9 batters exactly like the player in question. Add this column to the playerLS DataFrame. Call this colum OPW."
   ]
  },
  {
   "cell_type": "code",
   "execution_count": 14,
   "metadata": {
    "collapsed": false
   },
   "outputs": [
    {
     "data": {
      "text/html": [
       "<div>\n",
       "<table border=\"1\" class=\"dataframe\">\n",
       "  <thead>\n",
       "    <tr style=\"text-align: right;\">\n",
       "      <th></th>\n",
       "      <th>playerID</th>\n",
       "      <th>career_start_year</th>\n",
       "      <th>career_end_year</th>\n",
       "      <th>1B</th>\n",
       "      <th>2B</th>\n",
       "      <th>3B</th>\n",
       "      <th>HR</th>\n",
       "      <th>BB</th>\n",
       "      <th>OPW</th>\n",
       "    </tr>\n",
       "  </thead>\n",
       "  <tbody>\n",
       "    <tr>\n",
       "      <th>0</th>\n",
       "      <td>abreubo01</td>\n",
       "      <td>1996</td>\n",
       "      <td>2012</td>\n",
       "      <td>-0.954927</td>\n",
       "      <td>0.918221</td>\n",
       "      <td>-0.345258</td>\n",
       "      <td>-0.187583</td>\n",
       "      <td>1.431686</td>\n",
       "      <td>85.077402</td>\n",
       "    </tr>\n",
       "    <tr>\n",
       "      <th>1</th>\n",
       "      <td>allendi01</td>\n",
       "      <td>1963</td>\n",
       "      <td>1977</td>\n",
       "      <td>-0.155744</td>\n",
       "      <td>1.190421</td>\n",
       "      <td>1.818839</td>\n",
       "      <td>0.763955</td>\n",
       "      <td>0.644211</td>\n",
       "      <td>89.695993</td>\n",
       "    </tr>\n",
       "    <tr>\n",
       "      <th>2</th>\n",
       "      <td>alomasa01</td>\n",
       "      <td>1964</td>\n",
       "      <td>1978</td>\n",
       "      <td>0.707107</td>\n",
       "      <td>-0.707107</td>\n",
       "      <td>-0.707107</td>\n",
       "      <td>-0.707107</td>\n",
       "      <td>-0.707107</td>\n",
       "      <td>76.895336</td>\n",
       "    </tr>\n",
       "    <tr>\n",
       "      <th>3</th>\n",
       "      <td>alouma01</td>\n",
       "      <td>1960</td>\n",
       "      <td>1974</td>\n",
       "      <td>1.529468</td>\n",
       "      <td>1.575523</td>\n",
       "      <td>0.347749</td>\n",
       "      <td>-1.251338</td>\n",
       "      <td>-0.947769</td>\n",
       "      <td>82.981139</td>\n",
       "    </tr>\n",
       "    <tr>\n",
       "      <th>4</th>\n",
       "      <td>bagweje01</td>\n",
       "      <td>1991</td>\n",
       "      <td>2005</td>\n",
       "      <td>-1.032858</td>\n",
       "      <td>1.004970</td>\n",
       "      <td>-0.334311</td>\n",
       "      <td>0.778493</td>\n",
       "      <td>1.296231</td>\n",
       "      <td>88.210171</td>\n",
       "    </tr>\n",
       "  </tbody>\n",
       "</table>\n",
       "</div>"
      ],
      "text/plain": [
       "    playerID  career_start_year  career_end_year        1B        2B  \\\n",
       "0  abreubo01               1996             2012 -0.954927  0.918221   \n",
       "1  allendi01               1963             1977 -0.155744  1.190421   \n",
       "2  alomasa01               1964             1978  0.707107 -0.707107   \n",
       "3   alouma01               1960             1974  1.529468  1.575523   \n",
       "4  bagweje01               1991             2005 -1.032858  1.004970   \n",
       "\n",
       "         3B        HR        BB        OPW  \n",
       "0 -0.345258 -0.187583  1.431686  85.077402  \n",
       "1  1.818839  0.763955  0.644211  89.695993  \n",
       "2 -0.707107 -0.707107 -0.707107  76.895336  \n",
       "3  0.347749 -1.251338 -0.947769  82.981139  \n",
       "4 -0.334311  0.778493  1.296231  88.210171  "
      ]
     },
     "execution_count": 14,
     "metadata": {},
     "output_type": "execute_result"
    }
   ],
   "source": [
    "### Your code here ###\n",
    "\n",
    "## Create the best model based on the selected variables in 1f. \n",
    "stats_train_y = stats_adj[stats_adj['yearID'] <= 2002]['W']\n",
    "stats_train_x = stats_adj[stats_adj['yearID'] <= 2002][['1B', '2B', 'HR', 'BB']]\n",
    "stats_test_y = stats_adj[stats_adj['yearID'] > 2002]['W']\n",
    "stats_test_x = stats_adj[stats_adj['yearID'] > 2002][['1B', '2B', 'HR', 'BB']]\n",
    "regr = linear_model.LinearRegression()\n",
    "regr.fit(stats_train_x, stats_train_y)\n",
    "\n",
    "## Predict 'OPW' for the players in playerLS\n",
    "playerLS[\"OPW\"] = regr.predict(playerLS[['1B', '2B', 'HR', 'BB']])\n",
    "playerLS.head()"
   ]
  },
  {
   "cell_type": "markdown",
   "metadata": {},
   "source": [
    "#### Problem 1(j)\n",
    "\n",
    "Add four columns to the `playerLS` DataFrame that contains the player's position (C, 1B, 2B, 3B, SS, LF, CF, RF, DH or OF), first name, last name and median salary. "
   ]
  },
  {
   "cell_type": "code",
   "execution_count": 15,
   "metadata": {
    "collapsed": false,
    "scrolled": true
   },
   "outputs": [],
   "source": [
    "### Your code here ###\n",
    "\n",
    "## Get median salary\n",
    "median_salaries = salaries[['playerID','salary']].groupby('playerID').median().reset_index()\n",
    "\n",
    "## Merge with fielding dataset to get 'POS'\n",
    "playerLS = pd.merge(playerLS,fielding,on='playerID')[['playerID', 'career_start_year', 'career_end_year', '1B', '2B', '3B', 'HR', 'BB', 'OPW','POS']]\n",
    "\n",
    "## Filter out for positions\n",
    "playerLS = playerLS[playerLS['POS'].isin(['C', '1B', '2B', '3B', 'SS', 'LF', 'CF', 'DH' ,'RF', 'OF'])].drop_duplicates()\n",
    "\n",
    "## Add the median_salary into playerLS dataset\n",
    "playerLS = pd.merge(playerLS,median_salaries,on='playerID')"
   ]
  },
  {
   "cell_type": "markdown",
   "metadata": {},
   "source": [
    "Show the head of the `playerLS` DataFrame. "
   ]
  },
  {
   "cell_type": "code",
   "execution_count": 16,
   "metadata": {
    "collapsed": false
   },
   "outputs": [
    {
     "data": {
      "text/html": [
       "<div>\n",
       "<table border=\"1\" class=\"dataframe\">\n",
       "  <thead>\n",
       "    <tr style=\"text-align: right;\">\n",
       "      <th></th>\n",
       "      <th>playerID</th>\n",
       "      <th>career_start_year</th>\n",
       "      <th>career_end_year</th>\n",
       "      <th>1B</th>\n",
       "      <th>2B</th>\n",
       "      <th>3B</th>\n",
       "      <th>HR</th>\n",
       "      <th>BB</th>\n",
       "      <th>OPW</th>\n",
       "      <th>POS</th>\n",
       "      <th>salary</th>\n",
       "    </tr>\n",
       "  </thead>\n",
       "  <tbody>\n",
       "    <tr>\n",
       "      <th>0</th>\n",
       "      <td>abreubo01</td>\n",
       "      <td>1996</td>\n",
       "      <td>2012</td>\n",
       "      <td>-0.954927</td>\n",
       "      <td>0.918221</td>\n",
       "      <td>-0.345258</td>\n",
       "      <td>-0.187583</td>\n",
       "      <td>1.431686</td>\n",
       "      <td>85.077402</td>\n",
       "      <td>LF</td>\n",
       "      <td>9000000</td>\n",
       "    </tr>\n",
       "    <tr>\n",
       "      <th>1</th>\n",
       "      <td>abreubo01</td>\n",
       "      <td>1996</td>\n",
       "      <td>2012</td>\n",
       "      <td>-0.954927</td>\n",
       "      <td>0.918221</td>\n",
       "      <td>-0.345258</td>\n",
       "      <td>-0.187583</td>\n",
       "      <td>1.431686</td>\n",
       "      <td>85.077402</td>\n",
       "      <td>OF</td>\n",
       "      <td>9000000</td>\n",
       "    </tr>\n",
       "    <tr>\n",
       "      <th>2</th>\n",
       "      <td>abreubo01</td>\n",
       "      <td>1996</td>\n",
       "      <td>2012</td>\n",
       "      <td>-0.954927</td>\n",
       "      <td>0.918221</td>\n",
       "      <td>-0.345258</td>\n",
       "      <td>-0.187583</td>\n",
       "      <td>1.431686</td>\n",
       "      <td>85.077402</td>\n",
       "      <td>RF</td>\n",
       "      <td>9000000</td>\n",
       "    </tr>\n",
       "    <tr>\n",
       "      <th>3</th>\n",
       "      <td>abreubo01</td>\n",
       "      <td>1996</td>\n",
       "      <td>2012</td>\n",
       "      <td>-0.954927</td>\n",
       "      <td>0.918221</td>\n",
       "      <td>-0.345258</td>\n",
       "      <td>-0.187583</td>\n",
       "      <td>1.431686</td>\n",
       "      <td>85.077402</td>\n",
       "      <td>CF</td>\n",
       "      <td>9000000</td>\n",
       "    </tr>\n",
       "    <tr>\n",
       "      <th>4</th>\n",
       "      <td>abreubo01</td>\n",
       "      <td>1996</td>\n",
       "      <td>2012</td>\n",
       "      <td>-0.954927</td>\n",
       "      <td>0.918221</td>\n",
       "      <td>-0.345258</td>\n",
       "      <td>-0.187583</td>\n",
       "      <td>1.431686</td>\n",
       "      <td>85.077402</td>\n",
       "      <td>DH</td>\n",
       "      <td>9000000</td>\n",
       "    </tr>\n",
       "  </tbody>\n",
       "</table>\n",
       "</div>"
      ],
      "text/plain": [
       "    playerID  career_start_year  career_end_year        1B        2B  \\\n",
       "0  abreubo01               1996             2012 -0.954927  0.918221   \n",
       "1  abreubo01               1996             2012 -0.954927  0.918221   \n",
       "2  abreubo01               1996             2012 -0.954927  0.918221   \n",
       "3  abreubo01               1996             2012 -0.954927  0.918221   \n",
       "4  abreubo01               1996             2012 -0.954927  0.918221   \n",
       "\n",
       "         3B        HR        BB        OPW POS   salary  \n",
       "0 -0.345258 -0.187583  1.431686  85.077402  LF  9000000  \n",
       "1 -0.345258 -0.187583  1.431686  85.077402  OF  9000000  \n",
       "2 -0.345258 -0.187583  1.431686  85.077402  RF  9000000  \n",
       "3 -0.345258 -0.187583  1.431686  85.077402  CF  9000000  \n",
       "4 -0.345258 -0.187583  1.431686  85.077402  DH  9000000  "
      ]
     },
     "execution_count": 16,
     "metadata": {},
     "output_type": "execute_result"
    }
   ],
   "source": [
    "### Your code here ###\n",
    "\n",
    "playerLS.head()"
   ]
  },
  {
   "cell_type": "markdown",
   "metadata": {},
   "source": [
    "#### Problem 1(k)\n",
    "\n",
    "Subset the `playerLS` DataFrame for players active in 2002 and 2003 and played at least three years. Plot and describe the relationship bewteen the median salary (in millions) and the predicted number of wins. "
   ]
  },
  {
   "cell_type": "code",
   "execution_count": 17,
   "metadata": {
    "collapsed": false
   },
   "outputs": [
    {
     "data": {
      "image/png": "[encoded data removed]",
      "text/plain": [
       "<matplotlib.figure.Figure at 0x10f723250>"
      ]
     },
     "metadata": {},
     "output_type": "display_data"
    }
   ],
   "source": [
    "### Your code here ###\n",
    "\n",
    "## Get the list of playsers active in 2002 and 2003 and who have played atleast 3 years.\n",
    "active_players = playerLS[(playerLS['career_start_year'] <= 2002) & (playerLS['career_end_year'] >= 2003)&\\\n",
    "                (playerLS[\"career_end_year\"] - playerLS[\"career_start_year\"] >= 3)]\n",
    "\n",
    "## Plot to understand the median salary and predicted number of wins\n",
    "fig = plt.figure()\n",
    "ax = fig.gca()\n",
    "ax.scatter(active_players.OPW,active_players.salary/10**6)\n",
    "ax.set_ylabel('Salary (in Millions)')\n",
    "ax.set_xlabel('OPW')\n",
    "ax.set_title('Relationship between Salary and Predicted Number of Wins')\n",
    "plt.show()"
   ]
  },
  {
   "cell_type": "markdown",
   "metadata": {},
   "source": [
    "#### Problem 1(l)\n",
    "Pick one players from one of each of these 10 position C, 1B, 2B, 3B, SS, LF, CF, RF, DH, or OF keeping the total median salary of all 10 players below 20 million. Report their averaged predicted wins and total salary."
   ]
  },
  {
   "cell_type": "code",
   "execution_count": 18,
   "metadata": {
    "collapsed": false
   },
   "outputs": [
    {
     "name": "stderr",
     "output_type": "stream",
     "text": [
      "/Users/Deepthi/anaconda/lib/python2.7/site-packages/ipykernel/__main__.py:4: SettingWithCopyWarning: \n",
      "A value is trying to be set on a copy of a slice from a DataFrame.\n",
      "Try using .loc[row_indexer,col_indexer] = value instead\n",
      "\n",
      "See the the caveats in the documentation: http://pandas.pydata.org/pandas-docs/stable/indexing.html#indexing-view-versus-copy\n"
     ]
    },
    {
     "data": {
      "text/html": [
       "<div>\n",
       "<table border=\"1\" class=\"dataframe\">\n",
       "  <thead>\n",
       "    <tr style=\"text-align: right;\">\n",
       "      <th></th>\n",
       "      <th>playerID</th>\n",
       "      <th>career_start_year</th>\n",
       "      <th>career_end_year</th>\n",
       "      <th>1B</th>\n",
       "      <th>2B</th>\n",
       "      <th>3B</th>\n",
       "      <th>HR</th>\n",
       "      <th>BB</th>\n",
       "      <th>OPW</th>\n",
       "      <th>POS</th>\n",
       "      <th>salary</th>\n",
       "      <th>rnk</th>\n",
       "    </tr>\n",
       "  </thead>\n",
       "  <tbody>\n",
       "    <tr>\n",
       "      <th>439</th>\n",
       "      <td>surhobj01</td>\n",
       "      <td>1987</td>\n",
       "      <td>2005</td>\n",
       "      <td>0.718752</td>\n",
       "      <td>0.406501</td>\n",
       "      <td>-0.498026</td>\n",
       "      <td>-0.525086</td>\n",
       "      <td>-0.727656</td>\n",
       "      <td>80.297289</td>\n",
       "      <td>DH</td>\n",
       "      <td>1416667</td>\n",
       "      <td>3</td>\n",
       "    </tr>\n",
       "    <tr>\n",
       "      <th>110</th>\n",
       "      <td>cruzjo02</td>\n",
       "      <td>1997</td>\n",
       "      <td>2008</td>\n",
       "      <td>-1.136183</td>\n",
       "      <td>-1.239633</td>\n",
       "      <td>0.120934</td>\n",
       "      <td>0.376450</td>\n",
       "      <td>-0.170862</td>\n",
       "      <td>73.818385</td>\n",
       "      <td>CF</td>\n",
       "      <td>1500000</td>\n",
       "      <td>3</td>\n",
       "    </tr>\n",
       "    <tr>\n",
       "      <th>111</th>\n",
       "      <td>cruzjo02</td>\n",
       "      <td>1997</td>\n",
       "      <td>2008</td>\n",
       "      <td>-1.136183</td>\n",
       "      <td>-1.239633</td>\n",
       "      <td>0.120934</td>\n",
       "      <td>0.376450</td>\n",
       "      <td>-0.170862</td>\n",
       "      <td>73.818385</td>\n",
       "      <td>LF</td>\n",
       "      <td>1500000</td>\n",
       "      <td>3</td>\n",
       "    </tr>\n",
       "    <tr>\n",
       "      <th>112</th>\n",
       "      <td>cruzjo02</td>\n",
       "      <td>1997</td>\n",
       "      <td>2008</td>\n",
       "      <td>-1.136183</td>\n",
       "      <td>-1.239633</td>\n",
       "      <td>0.120934</td>\n",
       "      <td>0.376450</td>\n",
       "      <td>-0.170862</td>\n",
       "      <td>73.818385</td>\n",
       "      <td>OF</td>\n",
       "      <td>1500000</td>\n",
       "      <td>3</td>\n",
       "    </tr>\n",
       "    <tr>\n",
       "      <th>114</th>\n",
       "      <td>cruzjo02</td>\n",
       "      <td>1997</td>\n",
       "      <td>2008</td>\n",
       "      <td>-1.136183</td>\n",
       "      <td>-1.239633</td>\n",
       "      <td>0.120934</td>\n",
       "      <td>0.376450</td>\n",
       "      <td>-0.170862</td>\n",
       "      <td>73.818385</td>\n",
       "      <td>RF</td>\n",
       "      <td>1500000</td>\n",
       "      <td>3</td>\n",
       "    </tr>\n",
       "    <tr>\n",
       "      <th>362</th>\n",
       "      <td>perezne01</td>\n",
       "      <td>1996</td>\n",
       "      <td>2007</td>\n",
       "      <td>1.326771</td>\n",
       "      <td>-0.787052</td>\n",
       "      <td>1.651681</td>\n",
       "      <td>-1.494545</td>\n",
       "      <td>-1.218627</td>\n",
       "      <td>74.043534</td>\n",
       "      <td>2B</td>\n",
       "      <td>1856250</td>\n",
       "      <td>3</td>\n",
       "    </tr>\n",
       "    <tr>\n",
       "      <th>363</th>\n",
       "      <td>perezne01</td>\n",
       "      <td>1996</td>\n",
       "      <td>2007</td>\n",
       "      <td>1.326771</td>\n",
       "      <td>-0.787052</td>\n",
       "      <td>1.651681</td>\n",
       "      <td>-1.494545</td>\n",
       "      <td>-1.218627</td>\n",
       "      <td>74.043534</td>\n",
       "      <td>SS</td>\n",
       "      <td>1856250</td>\n",
       "      <td>3</td>\n",
       "    </tr>\n",
       "    <tr>\n",
       "      <th>364</th>\n",
       "      <td>perezne01</td>\n",
       "      <td>1996</td>\n",
       "      <td>2007</td>\n",
       "      <td>1.326771</td>\n",
       "      <td>-0.787052</td>\n",
       "      <td>1.651681</td>\n",
       "      <td>-1.494545</td>\n",
       "      <td>-1.218627</td>\n",
       "      <td>74.043534</td>\n",
       "      <td>3B</td>\n",
       "      <td>1856250</td>\n",
       "      <td>3</td>\n",
       "    </tr>\n",
       "    <tr>\n",
       "      <th>172</th>\n",
       "      <td>gonzalu01</td>\n",
       "      <td>1990</td>\n",
       "      <td>2008</td>\n",
       "      <td>-0.048984</td>\n",
       "      <td>-0.008314</td>\n",
       "      <td>0.343072</td>\n",
       "      <td>0.806056</td>\n",
       "      <td>0.355251</td>\n",
       "      <td>86.113988</td>\n",
       "      <td>1B</td>\n",
       "      <td>2025000</td>\n",
       "      <td>3</td>\n",
       "    </tr>\n",
       "    <tr>\n",
       "      <th>226</th>\n",
       "      <td>ibanera01</td>\n",
       "      <td>1996</td>\n",
       "      <td>2013</td>\n",
       "      <td>0.068034</td>\n",
       "      <td>0.249688</td>\n",
       "      <td>-0.463641</td>\n",
       "      <td>-0.366205</td>\n",
       "      <td>-0.134070</td>\n",
       "      <td>80.260013</td>\n",
       "      <td>C</td>\n",
       "      <td>3458333</td>\n",
       "      <td>3</td>\n",
       "    </tr>\n",
       "  </tbody>\n",
       "</table>\n",
       "</div>"
      ],
      "text/plain": [
       "      playerID  career_start_year  career_end_year        1B        2B  \\\n",
       "439  surhobj01               1987             2005  0.718752  0.406501   \n",
       "110   cruzjo02               1997             2008 -1.136183 -1.239633   \n",
       "111   cruzjo02               1997             2008 -1.136183 -1.239633   \n",
       "112   cruzjo02               1997             2008 -1.136183 -1.239633   \n",
       "114   cruzjo02               1997             2008 -1.136183 -1.239633   \n",
       "362  perezne01               1996             2007  1.326771 -0.787052   \n",
       "363  perezne01               1996             2007  1.326771 -0.787052   \n",
       "364  perezne01               1996             2007  1.326771 -0.787052   \n",
       "172  gonzalu01               1990             2008 -0.048984 -0.008314   \n",
       "226  ibanera01               1996             2013  0.068034  0.249688   \n",
       "\n",
       "           3B        HR        BB        OPW POS   salary  rnk  \n",
       "439 -0.498026 -0.525086 -0.727656  80.297289  DH  1416667    3  \n",
       "110  0.120934  0.376450 -0.170862  73.818385  CF  1500000    3  \n",
       "111  0.120934  0.376450 -0.170862  73.818385  LF  1500000    3  \n",
       "112  0.120934  0.376450 -0.170862  73.818385  OF  1500000    3  \n",
       "114  0.120934  0.376450 -0.170862  73.818385  RF  1500000    3  \n",
       "362  1.651681 -1.494545 -1.218627  74.043534  2B  1856250    3  \n",
       "363  1.651681 -1.494545 -1.218627  74.043534  SS  1856250    3  \n",
       "364  1.651681 -1.494545 -1.218627  74.043534  3B  1856250    3  \n",
       "172  0.343072  0.806056  0.355251  86.113988  1B  2025000    3  \n",
       "226 -0.463641 -0.366205 -0.134070  80.260013   C  3458333    3  "
      ]
     },
     "execution_count": 18,
     "metadata": {},
     "output_type": "execute_result"
    }
   ],
   "source": [
    "## Create rank on salary for every position. \n",
    "## Note: Since the question doesn't ask for optimizing on the OPW, I am picking a set of players to satisfy the \n",
    "## salary criteria\n",
    "active_players['rnk'] = active_players.groupby(['POS'])['salary'].rank(ascending = True)\n",
    "\n",
    "top_players = active_players[active_players['rnk']==3].sort('salary')\n",
    "top_players"
   ]
  },
  {
   "cell_type": "code",
   "execution_count": 19,
   "metadata": {
    "collapsed": false
   },
   "outputs": [
    {
     "name": "stdout",
     "output_type": "stream",
     "text": [
      "Total salary of the selected 10 players: 18468750\n",
      "Mean OPW of the selected 10 players: 76.4075433088\n"
     ]
    }
   ],
   "source": [
    "print 'Total salary of the selected 10 players:', top_players['salary'].sum()\n",
    "print 'Mean OPW of the selected 10 players:',top_players['OPW'].mean()"
   ]
  },
  {
   "cell_type": "markdown",
   "metadata": {},
   "source": [
    "#### Problem 1(m)\n",
    "What do these players outperform in? Singles, doubles, triples HR or BB?"
   ]
  },
  {
   "cell_type": "code",
   "execution_count": 20,
   "metadata": {
    "collapsed": false
   },
   "outputs": [
    {
     "data": {
      "text/html": [
       "<div>\n",
       "<table border=\"1\" class=\"dataframe\">\n",
       "  <thead>\n",
       "    <tr style=\"text-align: right;\">\n",
       "      <th></th>\n",
       "      <th>playerID</th>\n",
       "      <th>career_start_year</th>\n",
       "      <th>career_end_year</th>\n",
       "      <th>1B</th>\n",
       "      <th>2B</th>\n",
       "      <th>3B</th>\n",
       "      <th>HR</th>\n",
       "      <th>BB</th>\n",
       "      <th>OPW</th>\n",
       "      <th>POS</th>\n",
       "      <th>salary</th>\n",
       "      <th>rnk</th>\n",
       "    </tr>\n",
       "  </thead>\n",
       "  <tbody>\n",
       "    <tr>\n",
       "      <th>172</th>\n",
       "      <td>gonzalu01</td>\n",
       "      <td>1990</td>\n",
       "      <td>2008</td>\n",
       "      <td>-4.898368</td>\n",
       "      <td>-0.831416</td>\n",
       "      <td>34.307200</td>\n",
       "      <td>80.605556</td>\n",
       "      <td>35.525141</td>\n",
       "      <td>86.113988</td>\n",
       "      <td>1B</td>\n",
       "      <td>2025000</td>\n",
       "      <td>3</td>\n",
       "    </tr>\n",
       "    <tr>\n",
       "      <th>439</th>\n",
       "      <td>surhobj01</td>\n",
       "      <td>1987</td>\n",
       "      <td>2005</td>\n",
       "      <td>71.875226</td>\n",
       "      <td>40.650131</td>\n",
       "      <td>-49.802599</td>\n",
       "      <td>-52.508610</td>\n",
       "      <td>-72.765592</td>\n",
       "      <td>80.297289</td>\n",
       "      <td>DH</td>\n",
       "      <td>1416667</td>\n",
       "      <td>3</td>\n",
       "    </tr>\n",
       "    <tr>\n",
       "      <th>226</th>\n",
       "      <td>ibanera01</td>\n",
       "      <td>1996</td>\n",
       "      <td>2013</td>\n",
       "      <td>6.803401</td>\n",
       "      <td>24.968819</td>\n",
       "      <td>-46.364060</td>\n",
       "      <td>-36.620519</td>\n",
       "      <td>-13.407008</td>\n",
       "      <td>80.260013</td>\n",
       "      <td>C</td>\n",
       "      <td>3458333</td>\n",
       "      <td>3</td>\n",
       "    </tr>\n",
       "    <tr>\n",
       "      <th>362</th>\n",
       "      <td>perezne01</td>\n",
       "      <td>1996</td>\n",
       "      <td>2007</td>\n",
       "      <td>132.677149</td>\n",
       "      <td>-78.705173</td>\n",
       "      <td>165.168106</td>\n",
       "      <td>-149.454498</td>\n",
       "      <td>-121.862732</td>\n",
       "      <td>74.043534</td>\n",
       "      <td>2B</td>\n",
       "      <td>1856250</td>\n",
       "      <td>3</td>\n",
       "    </tr>\n",
       "    <tr>\n",
       "      <th>363</th>\n",
       "      <td>perezne01</td>\n",
       "      <td>1996</td>\n",
       "      <td>2007</td>\n",
       "      <td>132.677149</td>\n",
       "      <td>-78.705173</td>\n",
       "      <td>165.168106</td>\n",
       "      <td>-149.454498</td>\n",
       "      <td>-121.862732</td>\n",
       "      <td>74.043534</td>\n",
       "      <td>SS</td>\n",
       "      <td>1856250</td>\n",
       "      <td>3</td>\n",
       "    </tr>\n",
       "    <tr>\n",
       "      <th>364</th>\n",
       "      <td>perezne01</td>\n",
       "      <td>1996</td>\n",
       "      <td>2007</td>\n",
       "      <td>132.677149</td>\n",
       "      <td>-78.705173</td>\n",
       "      <td>165.168106</td>\n",
       "      <td>-149.454498</td>\n",
       "      <td>-121.862732</td>\n",
       "      <td>74.043534</td>\n",
       "      <td>3B</td>\n",
       "      <td>1856250</td>\n",
       "      <td>3</td>\n",
       "    </tr>\n",
       "    <tr>\n",
       "      <th>110</th>\n",
       "      <td>cruzjo02</td>\n",
       "      <td>1997</td>\n",
       "      <td>2008</td>\n",
       "      <td>-113.618305</td>\n",
       "      <td>-123.963336</td>\n",
       "      <td>12.093379</td>\n",
       "      <td>37.644957</td>\n",
       "      <td>-17.086209</td>\n",
       "      <td>73.818385</td>\n",
       "      <td>CF</td>\n",
       "      <td>1500000</td>\n",
       "      <td>3</td>\n",
       "    </tr>\n",
       "    <tr>\n",
       "      <th>111</th>\n",
       "      <td>cruzjo02</td>\n",
       "      <td>1997</td>\n",
       "      <td>2008</td>\n",
       "      <td>-113.618305</td>\n",
       "      <td>-123.963336</td>\n",
       "      <td>12.093379</td>\n",
       "      <td>37.644957</td>\n",
       "      <td>-17.086209</td>\n",
       "      <td>73.818385</td>\n",
       "      <td>LF</td>\n",
       "      <td>1500000</td>\n",
       "      <td>3</td>\n",
       "    </tr>\n",
       "    <tr>\n",
       "      <th>112</th>\n",
       "      <td>cruzjo02</td>\n",
       "      <td>1997</td>\n",
       "      <td>2008</td>\n",
       "      <td>-113.618305</td>\n",
       "      <td>-123.963336</td>\n",
       "      <td>12.093379</td>\n",
       "      <td>37.644957</td>\n",
       "      <td>-17.086209</td>\n",
       "      <td>73.818385</td>\n",
       "      <td>OF</td>\n",
       "      <td>1500000</td>\n",
       "      <td>3</td>\n",
       "    </tr>\n",
       "    <tr>\n",
       "      <th>114</th>\n",
       "      <td>cruzjo02</td>\n",
       "      <td>1997</td>\n",
       "      <td>2008</td>\n",
       "      <td>-113.618305</td>\n",
       "      <td>-123.963336</td>\n",
       "      <td>12.093379</td>\n",
       "      <td>37.644957</td>\n",
       "      <td>-17.086209</td>\n",
       "      <td>73.818385</td>\n",
       "      <td>RF</td>\n",
       "      <td>1500000</td>\n",
       "      <td>3</td>\n",
       "    </tr>\n",
       "  </tbody>\n",
       "</table>\n",
       "</div>"
      ],
      "text/plain": [
       "      playerID  career_start_year  career_end_year          1B          2B  \\\n",
       "172  gonzalu01               1990             2008   -4.898368   -0.831416   \n",
       "439  surhobj01               1987             2005   71.875226   40.650131   \n",
       "226  ibanera01               1996             2013    6.803401   24.968819   \n",
       "362  perezne01               1996             2007  132.677149  -78.705173   \n",
       "363  perezne01               1996             2007  132.677149  -78.705173   \n",
       "364  perezne01               1996             2007  132.677149  -78.705173   \n",
       "110   cruzjo02               1997             2008 -113.618305 -123.963336   \n",
       "111   cruzjo02               1997             2008 -113.618305 -123.963336   \n",
       "112   cruzjo02               1997             2008 -113.618305 -123.963336   \n",
       "114   cruzjo02               1997             2008 -113.618305 -123.963336   \n",
       "\n",
       "             3B          HR          BB        OPW POS   salary  rnk  \n",
       "172   34.307200   80.605556   35.525141  86.113988  1B  2025000    3  \n",
       "439  -49.802599  -52.508610  -72.765592  80.297289  DH  1416667    3  \n",
       "226  -46.364060  -36.620519  -13.407008  80.260013   C  3458333    3  \n",
       "362  165.168106 -149.454498 -121.862732  74.043534  2B  1856250    3  \n",
       "363  165.168106 -149.454498 -121.862732  74.043534  SS  1856250    3  \n",
       "364  165.168106 -149.454498 -121.862732  74.043534  3B  1856250    3  \n",
       "110   12.093379   37.644957  -17.086209  73.818385  CF  1500000    3  \n",
       "111   12.093379   37.644957  -17.086209  73.818385  LF  1500000    3  \n",
       "112   12.093379   37.644957  -17.086209  73.818385  OF  1500000    3  \n",
       "114   12.093379   37.644957  -17.086209  73.818385  RF  1500000    3  "
      ]
     },
     "execution_count": 20,
     "metadata": {},
     "output_type": "execute_result"
    }
   ],
   "source": [
    "### Your code here ###\n",
    "\n",
    "## To understand this question, I am going to look at those features with maximum positive rates\n",
    "## Multiply the features by 100 just for the sake of readability\n",
    "top_players[['1B','2B','3B','HR','BB']]=top_players[['1B','2B','3B','HR','BB']]*100\n",
    "\n",
    "top_players.sort('OPW',ascending = False)"
   ]
  },
  {
   "cell_type": "markdown",
   "metadata": {},
   "source": [
    "** Your answer here: **"
   ]
  },
  {
   "cell_type": "markdown",
   "metadata": {},
   "source": [
    "Most of the selected 10 players outperform in 1B."
   ]
  },
  {
   "cell_type": "markdown",
   "metadata": {},
   "source": [
    "### Use one of the classification methods to predict wheather a player will be an Allstar?"
   ]
  },
  {
   "cell_type": "code",
   "execution_count": 21,
   "metadata": {
    "collapsed": false,
    "scrolled": true
   },
   "outputs": [],
   "source": [
    "### Your code here ###\n",
    "\n",
    "## Get the allstar data\n",
    "allstar = pd.read_csv('AllstarFull.csv')\n",
    "\n",
    "## Clean up the data\n",
    "allstar2 = allstar[['playerID','yearID','GP']].drop_duplicates()\n",
    "\n",
    "## Get the GP - all star flag from the allstar file\n",
    "players_allstar_flag = pd.merge(players,allstar2,on=['playerID','yearID'],how ='left')\n",
    "\n",
    "players_allstar_flag['GP'] = players_allstar_flag['GP'].fillna(0)\n"
   ]
  },
  {
   "cell_type": "code",
   "execution_count": 22,
   "metadata": {
    "collapsed": false
   },
   "outputs": [
    {
     "name": "stdout",
     "output_type": "stream",
     "text": [
      "Error rate = 3.44 %\n"
     ]
    }
   ],
   "source": [
    "## Using KNN classifier to predict wheather a player will be an Allstar\n",
    "\n",
    "## Get only numeric features and handle nulls\n",
    "x = players_allstar_flag.drop('GP',axis=1)._get_numeric_data().fillna(0)\n",
    "y = players_allstar_flag['GP']\n",
    "\n",
    "## Split the data into train and test (66%-33% split)\n",
    "x_train, x_test, y_train, y_test = train_test_split(x, y, test_size=0.33, random_state=4)\n",
    "\n",
    "## Fit the KNN classifer and predict the allstar player\n",
    "neigh = KNeighborsClassifier(n_neighbors=12)\n",
    "neigh.fit(x_train, y_train) \n",
    "z = pd.DataFrame(zip(neigh.predict(x_test),y_test),columns = ['predicted','actual'])\n",
    "\n",
    "## Calculate the error rate\n",
    "z['new'] = z['actual']-z['predicted']\n",
    "print 'Error rate =', round(z[z['new']<>0]['new'].count()*100.0/z['new'].count(),2),'%'"
   ]
  },
  {
   "cell_type": "markdown",
   "metadata": {},
   "source": [
    "## Discussion for Problem 1\n",
    "\n",
    "*Write a brief discussion of your conclusions to the questions and tasks above in 100 words or less.*\n",
    "\n",
    "#### ** Data Exploration: **\n",
    "In this problem, we saw that 2B and HR have an increasing trend over time while 1B has been decreasing , especially after 1990. 3B however has stayed constant over time. \n",
    "\n",
    "#### ** Prediction of winners: **\n",
    "The above observation hints at the fact that 3B might not be a big factor in predicting the winner. This has been proven when the significant variables were chosen. Only 1B, 2B, HR and BB seem to be significant predictors of winners (with a minimum RSS).\n",
    "\n",
    "#### ** Selecting top 10 players: **\n",
    "When selecting the 10 customers, for each position, a few assumptions are made:\n",
    "1. Any player, irrespective of the fact that they are currently active or not has been considered\n",
    "2. If the same player holds different positions, then he is condidered more than once\n",
    "3. The 10 players have been selected to optimize only on the salary (and not on OPW) as the problem does not explicitly require us to optimize on OPW.\n",
    "\n",
    "Based on the above assumptions the 10 players selected had the following total salary and OPW:\n",
    "1. Total salary of the selected 10 players: $18,468,750\n",
    "2. Mean OPW of the selected 10 players: 76.41\n",
    "\n",
    "Also, the selected 10 players outperform in 1B.\n",
    "\n",
    "#### ** Classification: **\n",
    "For the classification exercise, I've used allstarfull.csv file. Here K-nearest neighbors method has been used. The data has been split into training and test sets (66% & 33% respectively.). Using this model, an accuracy of 96.66% has been achieved.\n",
    "\n"
   ]
  },
  {
   "cell_type": "markdown",
   "metadata": {},
   "source": [
    "# Problem 2:  $k$-Nearest Neighbors and Cross Validation \n",
    "\n",
    "What is the optimal $k$ for predicting species using $k$-nearest neighbor classification \n",
    "on the four features provided by the iris dataset.\n",
    "\n",
    "In this problem you will get to know the famous iris data set, and use cross validation to select the optimal $k$ for a $k$-nearest neighbor classification. This problem set makes heavy use of the [sklearn](http://scikit-learn.org/stable/) library. In addition to Pandas, it is one of the most useful libraries for data scientists. \n",
    "For the Iris data set  sklearn provides an extra function to load it - since it is one of the very commonly used data sets."
   ]
  },
  {
   "cell_type": "code",
   "execution_count": 23,
   "metadata": {
    "collapsed": false
   },
   "outputs": [],
   "source": [
    "#load the iris data set\n",
    "\n",
    "from matplotlib.colors import ListedColormap\n",
    "from sklearn import neighbors, datasets\n",
    "from sklearn.cross_validation import train_test_split\n",
    "from sklearn.neighbors import KNeighborsClassifier\n",
    "from sklearn.grid_search import GridSearchCV\n",
    "from sklearn import cross_validation\n",
    "\n",
    "iris = datasets.load_iris()\n",
    "x = iris.data\n",
    "y = iris.target"
   ]
  },
  {
   "cell_type": "markdown",
   "metadata": {},
   "source": [
    "#### Problem 2(a) \n",
    "Split the data into a train and a test set. Use a random selection of 33% of the samples as test data. Sklearn provides the [`train_test_split`](http://scikit-learn.org/stable/modules/generated/sklearn.cross_validation.train_test_split.html) function for this purpose. Print the dimensions of all the train and test data sets you have created. "
   ]
  },
  {
   "cell_type": "code",
   "execution_count": 24,
   "metadata": {
    "collapsed": false
   },
   "outputs": [
    {
     "name": "stdout",
     "output_type": "stream",
     "text": [
      "Dimensions of the test and train data sets\n",
      "\n",
      "x_train = (100, 4) \n",
      "\n",
      "x_test = (50, 4) \n",
      "\n",
      "y_train = (100,) \n",
      "\n",
      "y_test = (50,) \n",
      "\n"
     ]
    }
   ],
   "source": [
    "### Your code here ###\n",
    "\n",
    "x_train, x_test, y_train, y_test = train_test_split(x, y, test_size=0.33, random_state=4)\n",
    "\n",
    "print 'Dimensions of the test and train data sets'\n",
    "print '\\n', 'x_train =',np.shape(x_train),'\\n'\n",
    "print 'x_test =',np.shape(x_test),'\\n'\n",
    "print 'y_train =',np.shape(y_train),'\\n'\n",
    "print 'y_test =',np.shape(y_test),'\\n'"
   ]
  },
  {
   "cell_type": "markdown",
   "metadata": {},
   "source": [
    "#### Problem 2(b) \n",
    "\n",
    " Use ***ten fold cross validation*** to estimate the optimal value for $k$ for the iris data set. \n",
    "\n",
    "**Note**: For your convenience sklearn does not only include the [KNN classifier](http://scikit-learn.org/stable/modules/generated/sklearn.neighbors.KNeighborsClassifier.html), but also a [grid search function](http://scikit-learn.org/stable/modules/generated/sklearn.grid_search.GridSearchCV.html#sklearn.grid_search.GridSearchCV). The function is called grid search, because if you have to optimize more than one parameter, it is common practice to define a range of possible values for each parameter. An exhaustive search then runs over the complete grid defined by all the possible parameter combinations. This can get very computation heavy, but luckily our KNN classifier only requires tuning of a single parameter for this problem set. "
   ]
  },
  {
   "cell_type": "code",
   "execution_count": 25,
   "metadata": {
    "collapsed": false,
    "scrolled": false
   },
   "outputs": [
    {
     "name": "stdout",
     "output_type": "stream",
     "text": [
      "Best score obtained using grid search: 0.99\n",
      "Best parameter obtained using grid search: {'n_neighbors': 12}\n"
     ]
    }
   ],
   "source": [
    "### Your code here ###\n",
    "\n",
    "## Fit a KNN classifier  model\n",
    "neigh = KNeighborsClassifier()\n",
    "\n",
    "n_neighbor = range(1,21)\n",
    "param_grid = { \n",
    "    'n_neighbors': range(1,21)\n",
    "}\n",
    "\n",
    "## Use gridsearch and 10 fold cross validation on the train data set\n",
    "grid = GridSearchCV(estimator=neigh, param_grid=param_grid, cv=10)\n",
    "return_val = grid.fit( x_train, y_train )\n",
    "print 'Best score obtained using grid search:',(grid.best_score_)\n",
    "print 'Best parameter obtained using grid search:',return_val.best_params_\n",
    "gridscores = return_val.grid_scores_\n",
    "\n"
   ]
  },
  {
   "cell_type": "markdown",
   "metadata": {},
   "source": [
    "#### Problem 2(c)\n",
    "\n",
    "Visualize the result by plotting the score results versus values for $k$. "
   ]
  },
  {
   "cell_type": "code",
   "execution_count": 26,
   "metadata": {
    "collapsed": false
   },
   "outputs": [
    {
     "data": {
      "image/png": "[encoded data removed]",
      "text/plain": [
       "<matplotlib.figure.Figure at 0x1058f4450>"
      ]
     },
     "metadata": {},
     "output_type": "display_data"
    }
   ],
   "source": [
    "### Your code here ###\n",
    "\n",
    "## Plot the grid scores obtained for several values of k (n_neighbors)\n",
    "\n",
    "result = []\n",
    "kvalues = range(1,21)\n",
    "for i in range(0,len(gridscores)):\n",
    "    result.append(gridscores[i][1])\n",
    "    \n",
    "result_plot = pd.DataFrame(zip(kvalues,result), columns = ['kvalues','result'])\n",
    "\n",
    "result_plot.plot(x='kvalues',y='result', title = 'Score results vs values of k',fontsize = 12)\n",
    "plt.show()"
   ]
  },
  {
   "cell_type": "markdown",
   "metadata": {},
   "source": [
    "Verify that the grid search has indeed chosen the right parameter value for $k$."
   ]
  },
  {
   "cell_type": "code",
   "execution_count": 27,
   "metadata": {
    "collapsed": false
   },
   "outputs": [
    {
     "name": "stdout",
     "output_type": "stream",
     "text": [
      "The best value of n_neighbors obtained without gridsearch: 12\n"
     ]
    },
    {
     "data": {
      "image/png": "[encoded data removed]",
      "text/plain": [
       "<matplotlib.figure.Figure at 0x110c04bd0>"
      ]
     },
     "metadata": {},
     "output_type": "display_data"
    }
   ],
   "source": [
    "### Your code here ###\n",
    "\n",
    "## Manually run KNN with different values of n_neighbors to validate grid search. \n",
    "## Use 10 fold cross validation to maintain consistency with previous step\n",
    "\n",
    "scores=[]\n",
    "for i in range(1,21):\n",
    "    neigh = KNeighborsClassifier(n_neighbors=i)\n",
    "    score = np.mean(cross_validation.cross_val_score(neigh, x_train, y_train, cv=10))\n",
    "    scores.append(score)\n",
    "    \n",
    "print 'The best value of n_neighbors obtained without gridsearch:',np.argmax(scores)+1\n",
    "plt.plot(list(range(1,21)), scores)\n",
    "plt.xlabel('k-values')\n",
    "plt.ylabel('Score')\n",
    "plt.title('Score results vs values of k')\n",
    "plt.show()"
   ]
  },
  {
   "cell_type": "markdown",
   "metadata": {},
   "source": [
    "#### Problem 2(d)\n",
    "\n",
    "Test the performance of our tuned KNN classifier on the test set."
   ]
  },
  {
   "cell_type": "code",
   "execution_count": 28,
   "metadata": {
    "collapsed": false
   },
   "outputs": [
    {
     "name": "stdout",
     "output_type": "stream",
     "text": [
      "Error rate = 2.0 %\n",
      "Accuracy = 98.0 %\n"
     ]
    }
   ],
   "source": [
    "### Your code here ###\n",
    "\n",
    "## With the selected value of n_neighbors = 12, run KNN classifier on the test dataset.\n",
    "\n",
    "neigh = KNeighborsClassifier(n_neighbors=12)\n",
    "neigh.fit(x_train, y_train) \n",
    "z = pd.DataFrame(zip(neigh.predict(x_test),y_test),columns = ['predicted','actual'])\n",
    "\n",
    "z['new'] = z['actual']-z['predicted']\n",
    "print 'Error rate =', z[z['new']<>0]['new'].count()*100.0/z['new'].count(),'%'\n",
    "print 'Accuracy =', (100 - z[z['new']<>0]['new'].count()*100.0/z['new'].count()), '%'\n"
   ]
  },
  {
   "cell_type": "markdown",
   "metadata": {},
   "source": [
    "## Discussion for Problem 2\n",
    "\n",
    "*Write a brief discussion of your conclusions to the questions and tasks above in 100 words or less.*\n",
    "\n",
    "In this problem, the Iris data was first split into train and test in the ratio 66%,33% respectively. \n",
    "\n",
    "To obtain a the best value for the n_neighbors feature, gridsearch function was used on the training data set. This process was subjected to 10-fold cross validation to obtain a reliable value for the n_neighbors feature. Using these two methods, n_neighbors = 12 was obtained. \n",
    "\n",
    "To ensure that the grid search indeed provided a good estimate, the KNN algorithm was manually iterated through several values of n_neighbors and 10-fold cross validation and an identical value of 12 was obtained. Thus proving the results obtained by gridsearch were accurate.\n",
    "\n",
    "Using the n_neighbors=12, the test data set yielded a good 98% accuracy."
   ]
  },
  {
   "cell_type": "markdown",
   "metadata": {},
   "source": [
    "## Problem 3:  Investigate the influence of higher dimensional spaces on the classification using another standard data set in machine learning called the The cars data"
   ]
  },
  {
   "cell_type": "markdown",
   "metadata": {},
   "source": [
    "#### Download the UCI ML automobile dataset. (https://archive.ics.uci.edu/ml/datasets/Automobile)"
   ]
  },
  {
   "cell_type": "code",
   "execution_count": 29,
   "metadata": {
    "collapsed": false
   },
   "outputs": [
    {
     "name": "stdout",
     "output_type": "stream",
     "text": [
      "/Users/Deepthi/Documents/DSE/Q3_DSE220 - Machine Learning/Day 2/Assignment/Data/Cars data\n"
     ]
    }
   ],
   "source": [
    "### Your code here ###\n",
    "\n",
    "## Set directory\n",
    "%cd /Users/Deepthi/Documents/DSE/Q3_DSE220 - Machine Learning/Day 2/Assignment/Data/Cars data"
   ]
  },
  {
   "cell_type": "code",
   "execution_count": 30,
   "metadata": {
    "collapsed": true
   },
   "outputs": [],
   "source": [
    "## List of column headers\n",
    "col_header=['symboling','normalized-losses','make','fuel-type','aspiration','num-of-doors', 'body-style', 'drive-wheels',     \n",
    "'engine-location', 'wheel-base','length',  'width','height','curb-weight', 'engine-type',  'num-of-cylinders', \n",
    "'engine-size',  'fuel-system',  'bore', 'stroke',  'compression-ratio','horsepower','peak-rpm', 'city-mpg',         \n",
    "'highway-mpg', 'price' ]"
   ]
  },
  {
   "cell_type": "code",
   "execution_count": 31,
   "metadata": {
    "collapsed": false,
    "scrolled": true
   },
   "outputs": [
    {
     "name": "stderr",
     "output_type": "stream",
     "text": [
      "/Users/Deepthi/anaconda/lib/python2.7/site-packages/pandas/core/common.py:516: FutureWarning: elementwise comparison failed; returning scalar instead, but in the future will perform elementwise comparison\n",
      "  mask = arr == x\n"
     ]
    }
   ],
   "source": [
    "## Import the data\n",
    "cars_data_raw = pd.read_csv('imports-85.data.txt',header=-1)\n",
    "cars_data_raw.columns = col_header\n",
    "\n",
    "## Clean up the '?' in the data and replace with NaN\n",
    "cars_data_raw=cars_data_raw.replace('?', np.nan)\n",
    "\n",
    "## Some columns aren't in number fromat. So convert them into numeric values\n",
    "convert_to_num = ['bore','stroke','horsepower','peak-rpm','price']\n",
    "cars_data_raw[convert_to_num]=cars_data_raw[convert_to_num].astype(float, inplace=True)\n"
   ]
  },
  {
   "cell_type": "code",
   "execution_count": 32,
   "metadata": {
    "collapsed": false,
    "scrolled": true
   },
   "outputs": [],
   "source": [
    "## Clean up NANs\n",
    "cars_target = cars_data_raw['price'].fillna(0)\n",
    "cars_data = cars_data_raw.drop('price',axis=1).fillna(0)\n",
    "\n",
    "cols = np.array(cars_data.columns)\n",
    "\n",
    "## Tokenize the nominal variables\n",
    "for colname in cols[1:]:\n",
    "    dt = cars_data[colname].dtypes\n",
    "    if dt not in [np.float64, np.int64]:\n",
    "        cars_data[colname] = pd.factorize(cars_data[colname])[0]\n",
    "        "
   ]
  },
  {
   "cell_type": "markdown",
   "metadata": {},
   "source": [
    "#### Find the mostimportant features"
   ]
  },
  {
   "cell_type": "code",
   "execution_count": 33,
   "metadata": {
    "collapsed": false,
    "scrolled": false
   },
   "outputs": [
    {
     "name": "stdout",
     "output_type": "stream",
     "text": [
      "Selected features:\n",
      "['width', 'curb-weight', 'engine-size', 'horsepower', 'highway-mpg']\n"
     ]
    },
    {
     "data": {
      "image/png": "[encoded data removed]",
      "text/plain": [
       "<matplotlib.figure.Figure at 0x10f723150>"
      ]
     },
     "metadata": {},
     "output_type": "display_data"
    },
    {
     "data": {
      "image/png": "[encoded data removed]",
      "text/plain": [
       "<matplotlib.figure.Figure at 0x10f7b40d0>"
      ]
     },
     "metadata": {},
     "output_type": "display_data"
    },
    {
     "data": {
      "image/png": "[encoded data removed]",
      "text/plain": [
       "<matplotlib.figure.Figure at 0x1111be190>"
      ]
     },
     "metadata": {},
     "output_type": "display_data"
    },
    {
     "data": {
      "image/png": "[encoded data removed]",
      "text/plain": [
       "<matplotlib.figure.Figure at 0x1102bd690>"
      ]
     },
     "metadata": {},
     "output_type": "display_data"
    },
    {
     "data": {
      "image/png": "[encoded data removed]",
      "text/plain": [
       "<matplotlib.figure.Figure at 0x1111e9dd0>"
      ]
     },
     "metadata": {},
     "output_type": "display_data"
    }
   ],
   "source": [
    "### Your code here ###\n",
    "\n",
    "from sklearn.feature_selection import *\n",
    "fs=SelectKBest(score_func=f_regression,k=5)\n",
    "X_new=fs.fit_transform(cars_data,cars_target)\n",
    "\n",
    "\n",
    "df = pd.DataFrame(zip(fs.get_support(),cars_data.columns))\n",
    "print 'Selected features:'\n",
    "print list(df[df[0]==1][1])\n",
    "\n",
    "\n",
    "## Plot each of the selected variable vs. Price to understand the relationship\n",
    "for i in range(5):\n",
    "    plt.scatter(X_new[:,i],cars_target)\n",
    "    plt.xlabel(list(df[df[0]==1][1])[i], fontsize=15)\n",
    "    plt.ylabel('Price', fontsize=15)\n",
    "    plt.show()\n"
   ]
  },
  {
   "cell_type": "markdown",
   "metadata": {},
   "source": [
    "#### Using 10-fold cross validation separate the test and training data sets"
   ]
  },
  {
   "cell_type": "code",
   "execution_count": 34,
   "metadata": {
    "collapsed": false
   },
   "outputs": [],
   "source": [
    "### Your code here ###\n",
    "\n",
    "## Define the features and the predicted variable \n",
    "temp = cars_data_raw.dropna()\n",
    "X = temp[list(df[df[0]==1][1])]\n",
    "y = temp['price']\n",
    "\n",
    "## Define a function that will split the data into test and train using 10-fold cross validation\n",
    "from sklearn.cross_validation import *\n",
    "def train_and_evaluate(clf, X_train, y_train):    \n",
    "    clf.fit(X_train, y_train)    \n",
    "    print \"Coefficient of determination on training set:\",clf.score(X_train, y_train)    \n",
    "    # create a k-fold croos validation iterator of k=5 folds\n",
    "    cv = KFold(X_train.shape[0], 10, shuffle=True, random_state=4)\n",
    "    scores = cross_val_score(clf, X_train, y_train, cv=cv)\n",
    "    print \"Average coefficient of determination using 10-fold crossvalidation:\",np.mean(scores)"
   ]
  },
  {
   "cell_type": "markdown",
   "metadata": {
    "collapsed": false
   },
   "source": [
    "#### Normalize the data"
   ]
  },
  {
   "cell_type": "code",
   "execution_count": 35,
   "metadata": {
    "collapsed": false,
    "scrolled": true
   },
   "outputs": [
    {
     "data": {
      "text/html": [
       "<div>\n",
       "<table border=\"1\" class=\"dataframe\">\n",
       "  <thead>\n",
       "    <tr style=\"text-align: right;\">\n",
       "      <th></th>\n",
       "      <th>width</th>\n",
       "      <th>curb-weight</th>\n",
       "      <th>engine-size</th>\n",
       "      <th>horsepower</th>\n",
       "      <th>highway-mpg</th>\n",
       "    </tr>\n",
       "  </thead>\n",
       "  <tbody>\n",
       "    <tr>\n",
       "      <th>3</th>\n",
       "      <td>0.304152</td>\n",
       "      <td>-0.257580</td>\n",
       "      <td>-0.335724</td>\n",
       "      <td>0.200645</td>\n",
       "      <td>-0.322294</td>\n",
       "    </tr>\n",
       "    <tr>\n",
       "      <th>4</th>\n",
       "      <td>0.406828</td>\n",
       "      <td>0.752917</td>\n",
       "      <td>0.550661</td>\n",
       "      <td>0.623841</td>\n",
       "      <td>-1.560840</td>\n",
       "    </tr>\n",
       "    <tr>\n",
       "      <th>6</th>\n",
       "      <td>2.973718</td>\n",
       "      <td>0.794415</td>\n",
       "      <td>0.550661</td>\n",
       "      <td>0.461073</td>\n",
       "      <td>-1.096385</td>\n",
       "    </tr>\n",
       "    <tr>\n",
       "      <th>8</th>\n",
       "      <td>2.973718</td>\n",
       "      <td>1.296551</td>\n",
       "      <td>0.386516</td>\n",
       "      <td>1.437681</td>\n",
       "      <td>-1.870477</td>\n",
       "    </tr>\n",
       "    <tr>\n",
       "      <th>10</th>\n",
       "      <td>-0.414577</td>\n",
       "      <td>-0.137233</td>\n",
       "      <td>-0.368553</td>\n",
       "      <td>0.168091</td>\n",
       "      <td>-0.477113</td>\n",
       "    </tr>\n",
       "  </tbody>\n",
       "</table>\n",
       "</div>"
      ],
      "text/plain": [
       "       width  curb-weight  engine-size  horsepower  highway-mpg\n",
       "3   0.304152    -0.257580    -0.335724    0.200645    -0.322294\n",
       "4   0.406828     0.752917     0.550661    0.623841    -1.560840\n",
       "6   2.973718     0.794415     0.550661    0.461073    -1.096385\n",
       "8   2.973718     1.296551     0.386516    1.437681    -1.870477\n",
       "10 -0.414577    -0.137233    -0.368553    0.168091    -0.477113"
      ]
     },
     "execution_count": 35,
     "metadata": {},
     "output_type": "execute_result"
    }
   ],
   "source": [
    "### Your code here ###\n",
    "\n",
    "## I have standardized the data by dividing by standard deviation as I believe that this yields better results\n",
    "X=((X - X.mean()) / X.std())\n",
    "X.head()"
   ]
  },
  {
   "cell_type": "markdown",
   "metadata": {},
   "source": [
    "#### Start with a lineal model and evaluate how well it can predict the price variable"
   ]
  },
  {
   "cell_type": "code",
   "execution_count": 36,
   "metadata": {
    "collapsed": false
   },
   "outputs": [
    {
     "name": "stdout",
     "output_type": "stream",
     "text": [
      "Coefficient of determination on training set: 0.829692467808\n",
      "Average coefficient of determination using 10-fold crossvalidation: 0.770824309772\n"
     ]
    }
   ],
   "source": [
    "### Your code here ###\n",
    "lm = sklearn.linear_model.LinearRegression()\n",
    "train_and_evaluate(lm,X,y)"
   ]
  },
  {
   "cell_type": "markdown",
   "metadata": {},
   "source": [
    "#### Try using Ridge regression and evaluate the result of the 10-fold cross-validation"
   ]
  },
  {
   "cell_type": "code",
   "execution_count": 37,
   "metadata": {
    "collapsed": false
   },
   "outputs": [
    {
     "name": "stdout",
     "output_type": "stream",
     "text": [
      "Coefficient of determination on training set: 0.829658877611\n",
      "Average coefficient of determination using 10-fold crossvalidation: 0.771733944412\n"
     ]
    }
   ],
   "source": [
    "### Your code here ###\n",
    "rm = sklearn.linear_model.Ridge()\n",
    "train_and_evaluate(rm,X,y)"
   ]
  },
  {
   "cell_type": "markdown",
   "metadata": {},
   "source": [
    "#### Train the Regression Tree and evaluate using 10-fold cross validation; Specify the parameters used and how you changed them to increase the accuracy"
   ]
  },
  {
   "cell_type": "code",
   "execution_count": 38,
   "metadata": {
    "collapsed": false
   },
   "outputs": [
    {
     "name": "stdout",
     "output_type": "stream",
     "text": [
      "Coefficient of determination on training set: 0.99913700285\n",
      "Average coefficient of determination using 10-fold crossvalidation: 0.779528352881\n"
     ]
    }
   ],
   "source": [
    "### Your code here ###\n",
    "from sklearn.tree import DecisionTreeRegressor\n",
    "dtr = sklearn.tree.DecisionTreeRegressor()\n",
    "train_and_evaluate(dtr,X,y)"
   ]
  },
  {
   "cell_type": "markdown",
   "metadata": {},
   "source": [
    "#### Discussion for Problem 3  Write a brief discussion of your conclusions to the questions and tasks above in 100 words or less.Compare all three aproaches and discuss your findings in 100 words or less\n",
    "\n",
    "In this problem, the top features to predict the price of a car were selected using sklearn.feature_selection module. The following 5 features were selected and they proved to provide some good results.\n",
    "['width', 'curb-weight', 'engine-size', 'horsepower', 'highway-mpg']\n",
    "\n",
    "Here, 10-fold cross validation method was used to obtain a reliable result. Among the three regression models that were built, regression tree yielded the best results with and rsquare of 0.82. While, linear regression and ridge regression models yielded very similar reuslts with an rsquare of 0.77"
   ]
  }
 ],
 "metadata": {
  "kernelspec": {
   "display_name": "Python 2",
   "language": "python",
   "name": "python2"
  },
  "language_info": {
   "codemirror_mode": {
    "name": "ipython",
    "version": 2
   },
   "file_extension": ".py",
   "mimetype": "text/x-python",
   "name": "python",
   "nbconvert_exporter": "python",
   "pygments_lexer": "ipython2",
   "version": "2.7.11"
  }
 },
 "nbformat": 4,
 "nbformat_minor": 0
}
