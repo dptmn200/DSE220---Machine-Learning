{
 "cells": [
  {
   "cell_type": "markdown",
   "metadata": {
    "collapsed": false
   },
   "source": [
    "## Boston Housing Data - Stacking Ensemble Analysis"
   ]
  },
  {
   "cell_type": "markdown",
   "metadata": {},
   "source": [
    "#### In this exercise, I have used stacking ensemble method to predict the house rates in Boston"
   ]
  },
  {
   "cell_type": "code",
   "execution_count": 1,
   "metadata": {
    "collapsed": true
   },
   "outputs": [],
   "source": [
    "## Import all the relevant libraries\n",
    "import numpy as np\n",
    "import pandas as pd\n",
    "import matplotlib.pyplot as plt\n",
    "%matplotlib inline \n",
    "from sklearn.datasets import load_boston\n",
    "from sklearn.cross_validation import train_test_split\n",
    "from sklearn.linear_model import Ridge, LinearRegression,SGDRegressor,LassoCV,ElasticNet,RidgeCV\n",
    "from sklearn.tree import DecisionTreeRegressor\n",
    "import sklearn.cross_validation\n",
    "from sklearn.cross_validation import cross_val_score\n",
    "from sklearn.ensemble import RandomForestRegressor,GradientBoostingRegressor\n",
    "from sklearn.metrics import mean_squared_error\n",
    "from sklearn.feature_selection import *\n",
    "from sklearn.svm import SVR\n",
    "from sklearn import preprocessing\n",
    "from sklearn import ensemble"
   ]
  },
  {
   "cell_type": "code",
   "execution_count": 2,
   "metadata": {
    "collapsed": false
   },
   "outputs": [
    {
     "name": "stdout",
     "output_type": "stream",
     "text": [
      "/Users/Deepthi/Documents/DSE/Q3_DSE220 - Machine Learning/Day 3/Assignment/Data/Boston Housing\n"
     ]
    }
   ],
   "source": [
    "## Set directory\n",
    "%cd /Users/Deepthi/Documents/DSE/Q3_DSE220 - Machine Learning/Day 3/Assignment/Data/Boston Housing"
   ]
  },
  {
   "cell_type": "markdown",
   "metadata": {},
   "source": [
    "### Import data"
   ]
  },
  {
   "cell_type": "code",
   "execution_count": 3,
   "metadata": {
    "collapsed": false
   },
   "outputs": [
    {
     "name": "stdout",
     "output_type": "stream",
     "text": [
      "(506, 13)\n",
      "['CRIM' 'ZN' 'INDUS' 'CHAS' 'NOX' 'RM' 'AGE' 'DIS' 'RAD' 'TAX' 'PTRATIO'\n",
      " 'B' 'LSTAT']\n"
     ]
    }
   ],
   "source": [
    "## Get Boston Data\n",
    "boston = load_boston()\n",
    "print boston.data.shape\n",
    "print boston.feature_names\n"
   ]
  },
  {
   "cell_type": "code",
   "execution_count": 4,
   "metadata": {
    "collapsed": false
   },
   "outputs": [
    {
     "name": "stderr",
     "output_type": "stream",
     "text": [
      "/Users/Deepthi/anaconda/lib/python2.7/site-packages/sklearn/preprocessing/data.py:324: DeprecationWarning: Passing 1d arrays as data is deprecated in 0.17 and will raise ValueError in 0.19. Reshape your data either using X.reshape(-1, 1) if your data has a single feature or X.reshape(1, -1) if it contains a single sample.\n",
      "  warnings.warn(DEPRECATION_MSG_1D, DeprecationWarning)\n",
      "/Users/Deepthi/anaconda/lib/python2.7/site-packages/sklearn/preprocessing/data.py:359: DeprecationWarning: Passing 1d arrays as data is deprecated in 0.17 and will raise ValueError in 0.19. Reshape your data either using X.reshape(-1, 1) if your data has a single feature or X.reshape(1, -1) if it contains a single sample.\n",
      "  warnings.warn(DEPRECATION_MSG_1D, DeprecationWarning)\n"
     ]
    }
   ],
   "source": [
    "## Data Scaling\n",
    "data_scaler = preprocessing.MinMaxScaler()\n",
    "target_scaler = preprocessing.MinMaxScaler()\n",
    "\n",
    "data = data_scaler.fit_transform(boston.data)\n",
    "target = target_scaler.fit_transform(boston.target)"
   ]
  },
  {
   "cell_type": "markdown",
   "metadata": {},
   "source": [
    "### Split the data into test and train sets"
   ]
  },
  {
   "cell_type": "code",
   "execution_count": 5,
   "metadata": {
    "collapsed": false
   },
   "outputs": [],
   "source": [
    "## Split the data into test and train datasets\n",
    "X_train1, X_test1, y_train, y_test = train_test_split(data, target, test_size=0.33, random_state=33)"
   ]
  },
  {
   "cell_type": "markdown",
   "metadata": {},
   "source": [
    "### Select 5 best features using f_regression"
   ]
  },
  {
   "cell_type": "code",
   "execution_count": 6,
   "metadata": {
    "collapsed": false
   },
   "outputs": [
    {
     "name": "stdout",
     "output_type": "stream",
     "text": [
      "Selected features:\n",
      "[2, 5, 9, 10, 12]\n"
     ]
    }
   ],
   "source": [
    "fs=SelectKBest(score_func=f_regression,k=5)\n",
    "X_new=fs.fit_transform(X_train1,y_train)\n",
    "X_train = X_new.copy()\n",
    "df = pd.DataFrame(zip(fs.get_support(),range(0,13)))\n",
    "print 'Selected features:'\n",
    "print list(df[df[0]==1][1])\n",
    "\n",
    "X_test = X_test1[:,[2, 5, 9, 10, 12]]"
   ]
  },
  {
   "cell_type": "markdown",
   "metadata": {},
   "source": [
    "### Try several combination of Base classifiers and Meta classifiers\n",
    "\n",
    "In this section I have tried several combinations of Base and Meta classifiers. Initial few models are using very simple learning models. I have gradually increased the complexity of the models \n",
    "\n",
    "##### Using 2 models in Stack0:\n",
    "In my experiment, a combination of SVR and LinearRegression for base models and GradientBoostingRegressor for meta model gave the best results. (Score = 0.86 and the least MSE of 0.007 among all the other models)\n",
    "\n",
    "##### Using 3 models in stack0:\n",
    "In my experiment, a combination of GradientBoostingRegressor, RandomForestRegressor and Ridge in stack0 and Linear Regression in stack1 provided good results. (Score = 0.84, and MSE = 0.008)"
   ]
  },
  {
   "cell_type": "markdown",
   "metadata": {},
   "source": [
    "#### Model 1\n",
    "\n",
    "Stack0 models (Base model):\n",
    "    1. Linear Regression\n",
    "    2. Ridge Regression\n",
    "\n",
    "Stack1 models (Meta model):\n",
    "    1. Linear Regression\n",
    "    \n",
    "\n",
    "#### Observation:\n",
    "The Meta model significantly reduces the MSE."
   ]
  },
  {
   "cell_type": "code",
   "execution_count": 7,
   "metadata": {
    "collapsed": false
   },
   "outputs": [
    {
     "name": "stdout",
     "output_type": "stream",
     "text": [
      "stack0_score1: 0.743624788494\n",
      "stack0_mse1: 0.0127027301817\n",
      "stack0_score2: 0.74286612344\n",
      "stack0_mse2: 0.0127403200775\n",
      "stack1_score: 0.729106234783\n",
      "stack1_mse: 0.0134220870545\n"
     ]
    },
    {
     "data": {
      "image/png": "[encoded data removed]",
      "text/plain": [
       "<matplotlib.figure.Figure at 0x112461d50>"
      ]
     },
     "metadata": {},
     "output_type": "display_data"
    },
    {
     "data": {
      "image/png": "[encoded data removed]",
      "text/plain": [
       "<matplotlib.figure.Figure at 0x114e21b50>"
      ]
     },
     "metadata": {},
     "output_type": "display_data"
    }
   ],
   "source": [
    "## Split the data into test and train datasets\n",
    "X_train, X_test, y_train, y_test = train_test_split(data, target, test_size=0.25, random_state=4)\n",
    "X_train_base, X_test_base, y_train_base, y_test_base = train_test_split(X_train, y_train, test_size=0.5, random_state=4)\n",
    "\n",
    "# Fit base model 1\n",
    "clf1 = LinearRegression()\n",
    "clf1.fit(X_train_base,y_train_base)\n",
    "pred1 = clf1.predict(X_test_base)\n",
    "\n",
    "# Fit base model 2\n",
    "clf2 = RidgeCV()\n",
    "clf2.fit(X_train_base,y_train_base)\n",
    "pred2 = clf2.predict(X_test_base)\n",
    "\n",
    "# Fit Meta model\n",
    "clf3 = LinearRegression()\n",
    "clf3.fit(pd.DataFrame(zip(pred1,pred2)),y_test_base)\n",
    "pred3 = clf3.predict(pd.DataFrame(zip(pred1,pred2)))\n",
    "\n",
    "# Test the model\n",
    "pred1a = clf1.predict(X_test)\n",
    "stack0_score1 = clf1.score(X_test,y_test)\n",
    "stack0_mse1 = mean_squared_error(y_test, pred1a)\n",
    "print 'stack0_score1:',stack0_score1\n",
    "print 'stack0_mse1:',stack0_mse1\n",
    "\n",
    "pred2a = clf2.predict(X_test)\n",
    "stack0_score2 = clf2.score(X_test,y_test)\n",
    "stack0_mse2 = mean_squared_error(y_test, pred2a)\n",
    "print 'stack0_score2:', stack0_score2\n",
    "print 'stack0_mse2:',stack0_mse2\n",
    "\n",
    "pred3a = clf3.predict(pd.DataFrame(zip(pred1a,pred2a)))\n",
    "stack1_score = clf3.score(pd.DataFrame(zip(pred1a,pred2a)),y_test)\n",
    "stack1_mse = mean_squared_error(y_test, pred3a)\n",
    "print 'stack1_score:' , stack1_score\n",
    "print 'stack1_mse:',stack1_mse\n",
    "\n",
    "# Plot scores\n",
    "x = ['stack0_score1','stack0_score2','stack1_score']\n",
    "y = list([stack0_score1,stack0_score2,stack1_score])\n",
    "top= zip(x,y)\n",
    "labels, ys = zip(*top)\n",
    "xs = np.arange(len(labels)) \n",
    "plt.bar(xs, ys, align='center')\n",
    "plt.xticks(xs, labels)\n",
    "plt.title('Score')\n",
    "plt.show()\n",
    "\n",
    "#Plot mean squared error\n",
    "x = ['stack0_mse1','stack0_mse2','stack1_mse']\n",
    "y = list([stack0_mse1,stack0_mse2,stack1_mse])\n",
    "top= zip(x,y)\n",
    "labels, ys = zip(*top)\n",
    "xs = np.arange(len(labels)) \n",
    "plt.bar(xs, ys, align='center')\n",
    "plt.xticks(xs, labels)\n",
    "plt.title('MSE')\n",
    "plt.show()"
   ]
  },
  {
   "cell_type": "markdown",
   "metadata": {},
   "source": [
    "### Model 2\n",
    "\n",
    "Stack0 models:\n",
    "    1. Linear Regression\n",
    "    2. Ridge Regression\n",
    "\n",
    "Stack1 models:\n",
    "    1. Ridge Regression\n",
    "    \n",
    "#### Observation:\n",
    "The Meta model - Ridge regression has very similar performance as that of LinearRegression model used in the previous iteration."
   ]
  },
  {
   "cell_type": "code",
   "execution_count": 8,
   "metadata": {
    "collapsed": false
   },
   "outputs": [
    {
     "name": "stdout",
     "output_type": "stream",
     "text": [
      "stack0_score1: 0.743624788494\n",
      "stack0_mse1: 0.0127027301817\n",
      "stack0_score2: 0.74286612344\n",
      "stack0_mse2: 0.0127403200775\n",
      "stack1_score: 0.736251115763\n",
      "stack1_mse: 0.0130680766386\n"
     ]
    },
    {
     "data": {
      "image/png": "[encoded data removed]",
      "text/plain": [
       "<matplotlib.figure.Figure at 0x105c4e190>"
      ]
     },
     "metadata": {},
     "output_type": "display_data"
    },
    {
     "data": {
      "image/png": "[encoded data removed]",
      "text/plain": [
       "<matplotlib.figure.Figure at 0x11553fe10>"
      ]
     },
     "metadata": {},
     "output_type": "display_data"
    }
   ],
   "source": [
    "## Split the data into test and train datasets\n",
    "X_train, X_test, y_train, y_test = train_test_split(data, target, test_size=0.25, random_state=4)\n",
    "X_train_base, X_test_base, y_train_base, y_test_base = train_test_split(X_train, y_train, test_size=0.5, random_state=4)\n",
    "\n",
    "# Fit base model 1\n",
    "clf1 = LinearRegression()\n",
    "clf1.fit(X_train_base,y_train_base)\n",
    "pred1 = clf1.predict(X_test_base)\n",
    "\n",
    "# Fit base model 2\n",
    "clf2 = RidgeCV()\n",
    "clf2.fit(X_train_base,y_train_base)\n",
    "pred2 = clf2.predict(X_test_base)\n",
    "\n",
    "# Fit Meta model\n",
    "clf3 = RidgeCV()\n",
    "clf3.fit(pd.DataFrame(zip(pred1,pred2)),y_test_base)\n",
    "pred3 = clf3.predict(pd.DataFrame(zip(pred1,pred2)))\n",
    "\n",
    "# Test the model\n",
    "pred1a = clf1.predict(X_test)\n",
    "stack0_score1 = clf1.score(X_test,y_test)\n",
    "stack0_mse1 = mean_squared_error(y_test, pred1a)\n",
    "print 'stack0_score1:',stack0_score1\n",
    "print 'stack0_mse1:',stack0_mse1\n",
    "\n",
    "pred2a = clf2.predict(X_test)\n",
    "stack0_score2 = clf2.score(X_test,y_test)\n",
    "stack0_mse2 = mean_squared_error(y_test, pred2a)\n",
    "print 'stack0_score2:', stack0_score2\n",
    "print 'stack0_mse2:',stack0_mse2\n",
    "\n",
    "pred3a = clf3.predict(pd.DataFrame(zip(pred1a,pred2a)))\n",
    "stack1_score = clf3.score(pd.DataFrame(zip(pred1a,pred2a)),y_test)\n",
    "stack1_mse = mean_squared_error(y_test, pred3a)\n",
    "print 'stack1_score:' , stack1_score\n",
    "print 'stack1_mse:',stack1_mse\n",
    "\n",
    "# Plot scores\n",
    "x = ['stack0_score1','stack0_score2','stack1_score']\n",
    "y = list([stack0_score1,stack0_score2,stack1_score])\n",
    "top= zip(x,y)\n",
    "labels, ys = zip(*top)\n",
    "xs = np.arange(len(labels)) \n",
    "plt.bar(xs, ys, align='center')\n",
    "plt.xticks(xs, labels)\n",
    "plt.title('Score')\n",
    "plt.show()\n",
    "\n",
    "#Plot mean squared error\n",
    "x = ['stack0_mse1','stack0_mse2','stack1_mse']\n",
    "y = list([stack0_mse1,stack0_mse2,stack1_mse])\n",
    "top= zip(x,y)\n",
    "labels, ys = zip(*top)\n",
    "xs = np.arange(len(labels)) \n",
    "plt.bar(xs, ys, align='center')\n",
    "plt.xticks(xs, labels)\n",
    "plt.title('MSE')\n",
    "plt.show()"
   ]
  },
  {
   "cell_type": "markdown",
   "metadata": {},
   "source": [
    "### Model 3\n",
    "\n",
    "Stack0 models:\n",
    "    1. Linear Regression\n",
    "    2. ElasticNet Regression\n",
    "\n",
    "Stack1 models:\n",
    "    1. Linear Regression\n",
    "\n",
    "#### Observation:\n",
    "Using ElasticNet regression in the base model significantly reduced the rsquare."
   ]
  },
  {
   "cell_type": "code",
   "execution_count": 9,
   "metadata": {
    "collapsed": false
   },
   "outputs": [
    {
     "name": "stdout",
     "output_type": "stream",
     "text": [
      "stack0_score1: 0.743624788494\n",
      "stack0_mse1: 0.0127027301817\n",
      "stack0_score2: -0.0258192870131\n",
      "stack0_mse2: 0.050826698656\n",
      "stack1_score: 0.736932791689\n",
      "stack1_mse: 0.0130343013554\n"
     ]
    },
    {
     "data": {
      "image/png": "[encoded data removed]",
      "text/plain": [
       "<matplotlib.figure.Figure at 0x1153a48d0>"
      ]
     },
     "metadata": {},
     "output_type": "display_data"
    },
    {
     "data": {
      "image/png": "[encoded data removed]",
      "text/plain": [
       "<matplotlib.figure.Figure at 0x11576d190>"
      ]
     },
     "metadata": {},
     "output_type": "display_data"
    }
   ],
   "source": [
    "## Split the data into test and train datasets\n",
    "X_train, X_test, y_train, y_test = train_test_split(data, target, test_size=0.25, random_state=4)\n",
    "X_train_base, X_test_base, y_train_base, y_test_base = train_test_split(X_train, y_train, test_size=0.5, random_state=4)\n",
    "\n",
    "# Fit base model 1\n",
    "clf1 = LinearRegression()\n",
    "clf1.fit(X_train_base,y_train_base)\n",
    "pred1 = clf1.predict(X_test_base)\n",
    "\n",
    "# Fit base model 2\n",
    "clf2 = ElasticNet()\n",
    "clf2.fit(X_train_base,y_train_base)\n",
    "pred2 = clf2.predict(X_test_base)\n",
    "\n",
    "# Fit Meta model\n",
    "clf3 = LinearRegression()\n",
    "clf3.fit(pd.DataFrame(zip(pred1,pred2)),y_test_base)\n",
    "pred3 = clf3.predict(pd.DataFrame(zip(pred1,pred2)))\n",
    "\n",
    "# Test the model\n",
    "pred1a = clf1.predict(X_test)\n",
    "stack0_score1 = clf1.score(X_test,y_test)\n",
    "stack0_mse1 = mean_squared_error(y_test, pred1a)\n",
    "print 'stack0_score1:',stack0_score1\n",
    "print 'stack0_mse1:',stack0_mse1\n",
    "\n",
    "pred2a = clf2.predict(X_test)\n",
    "stack0_score2 = clf2.score(X_test,y_test)\n",
    "stack0_mse2 = mean_squared_error(y_test, pred2a)\n",
    "print 'stack0_score2:', stack0_score2\n",
    "print 'stack0_mse2:',stack0_mse2\n",
    "\n",
    "pred3a = clf3.predict(pd.DataFrame(zip(pred1a,pred2a)))\n",
    "stack1_score = clf3.score(pd.DataFrame(zip(pred1a,pred2a)),y_test)\n",
    "stack1_mse = mean_squared_error(y_test, pred3a)\n",
    "print 'stack1_score:' , stack1_score\n",
    "print 'stack1_mse:',stack1_mse\n",
    "\n",
    "# Plot scores\n",
    "x = ['stack0_score1','stack0_score2','stack1_score']\n",
    "y = list([stack0_score1,stack0_score2,stack1_score])\n",
    "top= zip(x,y)\n",
    "labels, ys = zip(*top)\n",
    "xs = np.arange(len(labels)) \n",
    "plt.bar(xs, ys, align='center')\n",
    "plt.xticks(xs, labels)\n",
    "plt.title('Score')\n",
    "plt.show()\n",
    "\n",
    "#Plot mean squared error\n",
    "x = ['stack0_mse1','stack0_mse2','stack1_mse']\n",
    "y = list([stack0_mse1,stack0_mse2,stack1_mse])\n",
    "top= zip(x,y)\n",
    "labels, ys = zip(*top)\n",
    "xs = np.arange(len(labels)) \n",
    "plt.bar(xs, ys, align='center')\n",
    "plt.xticks(xs, labels)\n",
    "plt.title('MSE')\n",
    "plt.show()"
   ]
  },
  {
   "cell_type": "markdown",
   "metadata": {},
   "source": [
    "### Model 4\n",
    "\n",
    "Stack0 models:\n",
    "    1. Linear Regression\n",
    "    2. DecisionTreeRegressor (Max depth = 3)\n",
    "\n",
    "Stack1 models:\n",
    "    1. Linear Regression\n",
    "    \n",
    "#### Observation:\n",
    "This is the best model that I was able to obtain. DecisionTreeRegressor with Max_depth = 3 in combination with Linear Regression has the best fit with a score of 0.74 and one of the lowest MSE."
   ]
  },
  {
   "cell_type": "code",
   "execution_count": 10,
   "metadata": {
    "collapsed": false
   },
   "outputs": [
    {
     "name": "stdout",
     "output_type": "stream",
     "text": [
      "stack0_score1: 0.743624788494\n",
      "stack0_mse1: 0.0127027301817\n",
      "stack0_score2: 0.632475738\n",
      "stack0_mse2: 0.0182098788256\n",
      "stack1_score: 0.773967220914\n",
      "stack1_mse: 0.0111993409506\n"
     ]
    },
    {
     "data": {
      "image/png": "[encoded data removed]",
      "text/plain": [
       "<matplotlib.figure.Figure at 0x112482190>"
      ]
     },
     "metadata": {},
     "output_type": "display_data"
    },
    {
     "data": {
      "image/png": "[encoded data removed]",
      "text/plain": [
       "<matplotlib.figure.Figure at 0x115a781d0>"
      ]
     },
     "metadata": {},
     "output_type": "display_data"
    }
   ],
   "source": [
    "## Split the data into test and train datasets\n",
    "X_train, X_test, y_train, y_test = train_test_split(data, target, test_size=0.25, random_state=4)\n",
    "X_train_base, X_test_base, y_train_base, y_test_base = train_test_split(X_train, y_train, test_size=0.5, random_state=4)\n",
    "\n",
    "# Fit base model 1\n",
    "clf1 = LinearRegression()\n",
    "clf1.fit(X_train_base,y_train_base)\n",
    "pred1 = clf1.predict(X_test_base)\n",
    "\n",
    "# Fit base model 2\n",
    "clf2 = DecisionTreeRegressor(max_depth=3)\n",
    "clf2.fit(X_train_base,y_train_base)\n",
    "pred2 = clf2.predict(X_test_base)\n",
    "\n",
    "# Fit Meta model\n",
    "clf3 = LinearRegression()\n",
    "clf3.fit(pd.DataFrame(zip(pred1,pred2)),y_test_base)\n",
    "pred3 = clf3.predict(pd.DataFrame(zip(pred1,pred2)))\n",
    "\n",
    "# Test the model\n",
    "pred1a = clf1.predict(X_test)\n",
    "stack0_score1 = clf1.score(X_test,y_test)\n",
    "stack0_mse1 = mean_squared_error(y_test, pred1a)\n",
    "print 'stack0_score1:',stack0_score1\n",
    "print 'stack0_mse1:',stack0_mse1\n",
    "\n",
    "pred2a = clf2.predict(X_test)\n",
    "stack0_score2 = clf2.score(X_test,y_test)\n",
    "stack0_mse2 = mean_squared_error(y_test, pred2a)\n",
    "print 'stack0_score2:', stack0_score2\n",
    "print 'stack0_mse2:',stack0_mse2\n",
    "\n",
    "pred3a = clf3.predict(pd.DataFrame(zip(pred1a,pred2a)))\n",
    "stack1_score = clf3.score(pd.DataFrame(zip(pred1a,pred2a)),y_test)\n",
    "stack1_mse = mean_squared_error(y_test, pred3a)\n",
    "print 'stack1_score:' , stack1_score\n",
    "print 'stack1_mse:',stack1_mse\n",
    "\n",
    "# Plot scores\n",
    "x = ['stack0_score1','stack0_score2','stack1_score']\n",
    "y = list([stack0_score1,stack0_score2,stack1_score])\n",
    "top= zip(x,y)\n",
    "labels, ys = zip(*top)\n",
    "xs = np.arange(len(labels)) \n",
    "plt.bar(xs, ys, align='center')\n",
    "plt.xticks(xs, labels)\n",
    "plt.title('Score')\n",
    "plt.show()\n",
    "\n",
    "#Plot mean squared error\n",
    "x = ['stack0_mse1','stack0_mse2','stack1_mse']\n",
    "y = list([stack0_mse1,stack0_mse2,stack1_mse])\n",
    "top= zip(x,y)\n",
    "labels, ys = zip(*top)\n",
    "xs = np.arange(len(labels)) \n",
    "plt.bar(xs, ys, align='center')\n",
    "plt.xticks(xs, labels)\n",
    "plt.title('MSE')\n",
    "plt.show()"
   ]
  },
  {
   "cell_type": "markdown",
   "metadata": {},
   "source": [
    "### Model 5\n",
    "\n",
    "Stack0 models:\n",
    "    1. DecisionTreeRegressor Regression - max_depth = 2\n",
    "    2. DecisionTreeRegressor Regression - max_depth = 3\n",
    "\n",
    "Stack1 models:\n",
    "    1. Linear Regression\n",
    "    \n",
    "#### Observation:\n",
    "Using DecisionTreeRegressors of different max_depths as base regressor didn't have a huge impact on the model fit. "
   ]
  },
  {
   "cell_type": "code",
   "execution_count": 11,
   "metadata": {
    "collapsed": false
   },
   "outputs": [
    {
     "name": "stdout",
     "output_type": "stream",
     "text": [
      "stack0_score1: 0.635791879406\n",
      "stack0_mse1: 0.0180455725759\n",
      "stack0_score2: 0.632475738\n",
      "stack0_mse2: 0.0182098788256\n",
      "stack1_score: 0.628166299997\n",
      "stack1_mse: 0.0184234003586\n"
     ]
    },
    {
     "data": {
      "image/png": "[encoded data removed]",
      "text/plain": [
       "<matplotlib.figure.Figure at 0x11593b210>"
      ]
     },
     "metadata": {},
     "output_type": "display_data"
    },
    {
     "data": {
      "image/png": "[encoded data removed]",
      "text/plain": [
       "<matplotlib.figure.Figure at 0x115bbdf50>"
      ]
     },
     "metadata": {},
     "output_type": "display_data"
    }
   ],
   "source": [
    "## Split the data into test and train datasets\n",
    "X_train, X_test, y_train, y_test = train_test_split(data, target, test_size=0.25, random_state=4)\n",
    "X_train_base, X_test_base, y_train_base, y_test_base = train_test_split(X_train, y_train, test_size=0.5, random_state=4)\n",
    "\n",
    "# Fit base model 1\n",
    "clf1 = DecisionTreeRegressor(max_depth = 2)\n",
    "clf1.fit(X_train_base,y_train_base)\n",
    "pred1 = clf1.predict(X_test_base)\n",
    "\n",
    "# Fit base model 2\n",
    "clf2 = DecisionTreeRegressor(max_depth = 3)\n",
    "clf2.fit(X_train_base,y_train_base)\n",
    "pred2 = clf2.predict(X_test_base)\n",
    "\n",
    "# Fit Meta model\n",
    "clf3 = LinearRegression()\n",
    "clf3.fit(pd.DataFrame(zip(pred1,pred2)),y_test_base)\n",
    "pred3 = clf3.predict(pd.DataFrame(zip(pred1,pred2)))\n",
    "\n",
    "# Test the model\n",
    "pred1a = clf1.predict(X_test)\n",
    "stack0_score1 = clf1.score(X_test,y_test)\n",
    "stack0_mse1 = mean_squared_error(y_test, pred1a)\n",
    "print 'stack0_score1:',stack0_score1\n",
    "print 'stack0_mse1:',stack0_mse1\n",
    "\n",
    "pred2a = clf2.predict(X_test)\n",
    "stack0_score2 = clf2.score(X_test,y_test)\n",
    "stack0_mse2 = mean_squared_error(y_test, pred2a)\n",
    "print 'stack0_score2:', stack0_score2\n",
    "print 'stack0_mse2:',stack0_mse2\n",
    "\n",
    "pred3a = clf3.predict(pd.DataFrame(zip(pred1a,pred2a)))\n",
    "stack1_score = clf3.score(pd.DataFrame(zip(pred1a,pred2a)),y_test)\n",
    "stack1_mse = mean_squared_error(y_test, pred3a)\n",
    "print 'stack1_score:' , stack1_score\n",
    "print 'stack1_mse:',stack1_mse\n",
    "\n",
    "# Plot scores\n",
    "x = ['stack0_score1','stack0_score2','stack1_score']\n",
    "y = list([stack0_score1,stack0_score2,stack1_score])\n",
    "top= zip(x,y)\n",
    "labels, ys = zip(*top)\n",
    "xs = np.arange(len(labels)) \n",
    "plt.bar(xs, ys, align='center')\n",
    "plt.xticks(xs, labels)\n",
    "plt.title('Score')\n",
    "plt.show()\n",
    "\n",
    "#Plot mean squared error\n",
    "x = ['stack0_mse1','stack0_mse2','stack1_mse']\n",
    "y = list([stack0_mse1,stack0_mse2,stack1_mse])\n",
    "top= zip(x,y)\n",
    "labels, ys = zip(*top)\n",
    "xs = np.arange(len(labels)) \n",
    "plt.bar(xs, ys, align='center')\n",
    "plt.xticks(xs, labels)\n",
    "plt.title('MSE')\n",
    "plt.show()"
   ]
  },
  {
   "cell_type": "markdown",
   "metadata": {},
   "source": [
    "### Model 5\n",
    "\n",
    "Stack0 models:\n",
    "    1. SVR\n",
    "    2. LinearRegression\n",
    "\n",
    "Stack1 models:\n",
    "    1. GradientBoostingRegressor\n",
    "    \n",
    "#### Observation:\n",
    "Using Boosted regressor in the stack 1 greatly improved the performance"
   ]
  },
  {
   "cell_type": "code",
   "execution_count": 12,
   "metadata": {
    "collapsed": false
   },
   "outputs": [
    {
     "name": "stdout",
     "output_type": "stream",
     "text": [
      "stack0_score1: 0.823912865044\n",
      "stack0_mse1: 0.00872466316333\n",
      "stack0_score2: 0.743624788494\n",
      "stack0_mse2: 0.0127027301817\n",
      "stack1_score: 0.857151713024\n",
      "stack1_mse: 0.00707776401513\n"
     ]
    },
    {
     "data": {
      "image/png": "[encoded data removed]",
      "text/plain": [
       "<matplotlib.figure.Figure at 0x112224490>"
      ]
     },
     "metadata": {},
     "output_type": "display_data"
    },
    {
     "data": {
      "image/png": "[encoded data removed]",
      "text/plain": [
       "<matplotlib.figure.Figure at 0x1157512d0>"
      ]
     },
     "metadata": {},
     "output_type": "display_data"
    }
   ],
   "source": [
    "## Split the data into test and train datasets\n",
    "X_train, X_test, y_train, y_test = train_test_split(data, target, test_size=0.25, random_state=4)\n",
    "X_train_base, X_test_base, y_train_base, y_test_base = train_test_split(X_train, y_train, test_size=0.5, random_state=4)\n",
    "\n",
    "# Fit base model 1\n",
    "clf1 = SVR(kernel='poly', C=1e3, degree=2)\n",
    "clf1.fit(X_train_base,y_train_base)\n",
    "pred1 = clf1.predict(X_test_base)\n",
    "\n",
    "# Fit base model 2\n",
    "clf2 = LinearRegression()\n",
    "clf2.fit(X_train_base,y_train_base)\n",
    "pred2 = clf2.predict(X_test_base)\n",
    "\n",
    "# Fit Meta model\n",
    "params = {'n_estimators': 500, 'max_depth': 4, 'min_samples_split': 1, 'learning_rate': 0.01, 'loss': 'ls'}\n",
    "clf3 = ensemble.GradientBoostingRegressor(**params)\n",
    "clf3.fit(pd.DataFrame(zip(pred1,pred2)),y_test_base)\n",
    "pred3 = clf3.predict(pd.DataFrame(zip(pred1,pred2)))\n",
    "\n",
    "# Test the model\n",
    "pred1a = clf1.predict(X_test)\n",
    "stack0_score1 = clf1.score(X_test,y_test)\n",
    "stack0_mse1 = mean_squared_error(y_test, pred1a)\n",
    "print 'stack0_score1:',stack0_score1\n",
    "print 'stack0_mse1:',stack0_mse1\n",
    "\n",
    "pred2a = clf2.predict(X_test)\n",
    "stack0_score2 = clf2.score(X_test,y_test)\n",
    "stack0_mse2 = mean_squared_error(y_test, pred2a)\n",
    "print 'stack0_score2:', stack0_score2\n",
    "print 'stack0_mse2:',stack0_mse2\n",
    "\n",
    "pred3a = clf3.predict(pd.DataFrame(zip(pred1a,pred2a)))\n",
    "stack1_score = clf3.score(pd.DataFrame(zip(pred1a,pred2a)),y_test)\n",
    "stack1_mse = mean_squared_error(y_test, pred3a)\n",
    "print 'stack1_score:' , stack1_score\n",
    "print 'stack1_mse:',stack1_mse\n",
    "\n",
    "# Plot scores\n",
    "x = ['stack0_score1','stack0_score2','stack1_score']\n",
    "y = list([stack0_score1,stack0_score2,stack1_score])\n",
    "top= zip(x,y)\n",
    "labels, ys = zip(*top)\n",
    "xs = np.arange(len(labels)) \n",
    "plt.bar(xs, ys, align='center')\n",
    "plt.xticks(xs, labels)\n",
    "plt.title('Score')\n",
    "plt.show()\n",
    "\n",
    "#Plot mean squared error\n",
    "x = ['stack0_mse1','stack0_mse2','stack1_mse']\n",
    "y = list([stack0_mse1,stack0_mse2,stack1_mse])\n",
    "top= zip(x,y)\n",
    "labels, ys = zip(*top)\n",
    "xs = np.arange(len(labels)) \n",
    "plt.bar(xs, ys, align='center')\n",
    "plt.xticks(xs, labels)\n",
    "plt.title('MSE')\n",
    "plt.show()"
   ]
  },
  {
   "cell_type": "markdown",
   "metadata": {},
   "source": [
    "### Model 7\n",
    "\n",
    "Stack0 models:\n",
    "    1. GradientBoostingRegressor\n",
    "    2. RandomForestRegressor\n",
    "    3. Ridge\n",
    "\n",
    "Stack1 models:\n",
    "    1. Linear Regression\n",
    "    \n",
    "#### Observation:\n",
    "Using 3 base models improved the performance drastically when compared to just 2 base models"
   ]
  },
  {
   "cell_type": "code",
   "execution_count": 13,
   "metadata": {
    "collapsed": false
   },
   "outputs": [
    {
     "name": "stdout",
     "output_type": "stream",
     "text": [
      "stack0_score1: 0.850032291232\n",
      "stack0_mse1: 0.00743051299406\n",
      "stack0_score2: 0.82953411278\n",
      "stack0_mse2: 0.00844614484301\n",
      "stack0_score3: 0.74286612344\n",
      "stack0_mse3: 0.0127403200775\n",
      "stack1_score: 0.851652105493\n",
      "stack1_mse: 0.00735025537718\n"
     ]
    },
    {
     "data": {
      "image/png": "[encoded data removed]",
      "text/plain": [
       "<matplotlib.figure.Figure at 0x115b0fed0>"
      ]
     },
     "metadata": {},
     "output_type": "display_data"
    },
    {
     "data": {
      "image/png": "[encoded data removed]",
      "text/plain": [
       "<matplotlib.figure.Figure at 0x115bbd410>"
      ]
     },
     "metadata": {},
     "output_type": "display_data"
    }
   ],
   "source": [
    "## Split the data into test and train datasets\n",
    "X_train, X_test, y_train, y_test = train_test_split(data, target, test_size=0.25, random_state=4)\n",
    "X_train_base, X_test_base, y_train_base, y_test_base = train_test_split(X_train, y_train, test_size=0.5, random_state=4)\n",
    "\n",
    "# Fit base model 1\n",
    "clf1 = GradientBoostingRegressor()\n",
    "clf1.fit(X_train_base,y_train_base)\n",
    "pred1 = clf1.predict(X_test_base)\n",
    "\n",
    "# Fit base model 2\n",
    "clf2 = RandomForestRegressor()\n",
    "clf2.fit(X_train_base,y_train_base)\n",
    "pred2 = clf2.predict(X_test_base)\n",
    "\n",
    "# Fit base model 3\n",
    "clf3 = RidgeCV()\n",
    "clf3.fit(X_train_base,y_train_base)\n",
    "pred3 = clf3.predict(X_test_base)\n",
    "\n",
    "# Fit Meta model\n",
    "clf4 = LinearRegression()\n",
    "clf4.fit(pd.DataFrame(zip(pred1,pred2,pred3)),y_test_base)\n",
    "pred4 = clf4.predict(pd.DataFrame(zip(pred1,pred2,pred3)))\n",
    "\n",
    "# Test the model\n",
    "pred1a = clf1.predict(X_test)\n",
    "stack0_score1 = clf1.score(X_test,y_test)\n",
    "stack0_mse1 = mean_squared_error(y_test, pred1a)\n",
    "print 'stack0_score1:',stack0_score1\n",
    "print 'stack0_mse1:',stack0_mse1\n",
    "\n",
    "pred2a = clf2.predict(X_test)\n",
    "stack0_score2 = clf2.score(X_test,y_test)\n",
    "stack0_mse2 = mean_squared_error(y_test, pred2a)\n",
    "print 'stack0_score2:', stack0_score2\n",
    "print 'stack0_mse2:',stack0_mse2\n",
    "\n",
    "pred3a = clf3.predict(X_test)\n",
    "stack0_score3 = clf3.score(X_test,y_test)\n",
    "stack0_mse3 = mean_squared_error(y_test, pred3a)\n",
    "print 'stack0_score3:', stack0_score3\n",
    "print 'stack0_mse3:',stack0_mse3\n",
    "\n",
    "pred4a = clf4.predict(pd.DataFrame(zip(pred1a,pred2a,pred3a)))\n",
    "stack1_score = clf4.score(pd.DataFrame(zip(pred1a,pred2a,pred3a)),y_test)\n",
    "stack1_mse = mean_squared_error(y_test, pred4a)\n",
    "print 'stack1_score:' , stack1_score\n",
    "print 'stack1_mse:',stack1_mse\n",
    "\n",
    "# Plot scores\n",
    "x = ['stack0_score1','stack0_score2','stack0_score3','stack1_score']\n",
    "y = list([stack0_score1,stack0_score2,stack0_score3,stack1_score])\n",
    "top= zip(x,y)\n",
    "labels, ys = zip(*top)\n",
    "xs = np.arange(len(labels)) \n",
    "plt.bar(xs, ys, align='center')\n",
    "plt.xticks(xs, labels)\n",
    "plt.title('Score')\n",
    "plt.show()\n",
    "\n",
    "#Plot mean squared error\n",
    "x = ['stack0_mse1','stack0_mse2','stack0_mse3','stack1_mse']\n",
    "y = list([stack0_mse1,stack0_mse2,stack0_mse3,stack1_mse])\n",
    "top= zip(x,y)\n",
    "labels, ys = zip(*top)\n",
    "xs = np.arange(len(labels)) \n",
    "plt.bar(xs, ys, align='center')\n",
    "plt.xticks(xs, labels)\n",
    "plt.title('MSE')\n",
    "plt.show()"
   ]
  }
 ],
 "metadata": {
  "kernelspec": {
   "display_name": "Python 2",
   "language": "python",
   "name": "python2"
  },
  "language_info": {
   "codemirror_mode": {
    "name": "ipython",
    "version": 2
   },
   "file_extension": ".py",
   "mimetype": "text/x-python",
   "name": "python",
   "nbconvert_exporter": "python",
   "pygments_lexer": "ipython2",
   "version": "2.7.11"
  }
 },
 "nbformat": 4,
 "nbformat_minor": 0
}
